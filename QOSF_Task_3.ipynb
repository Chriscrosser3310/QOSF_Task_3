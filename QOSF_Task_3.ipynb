{
 "cells": [
  {
   "cell_type": "markdown",
   "metadata": {},
   "source": [
    "# QOSF Screening Task 3\n",
    "We will be using qiskit.QuantumCircuit as our circuit object throughout the notebook."
   ]
  },
  {
   "cell_type": "markdown",
   "metadata": {},
   "source": [
    "## 0. Task Description"
   ]
  },
  {
   "cell_type": "markdown",
   "metadata": {},
   "source": [
    "Please write a simple compiler – program, which translates one quantum circuit into another, using a restricted set of gates.\n",
    "\n",
    "You need to consider just the basic gates for the input circuit, such as (I, H, X, Y, Z, RX, RY, RZ, CNOT, CZ).\n",
    "\n",
    "The output circuit should consist only from the following gates: RX, RZ, CZ. In other words, each gate in the original circuit must be replaced by an equivalent combination of gates coming from the restricted set (RX, RZ, CZ) only.\n",
    "\n",
    "For example, a Hadamard gate after compilation looks like this:\n",
    "\n",
    "RZ(pi/2)\n",
    "RX(pi/2)\n",
    "RZ(pi/2)\n",
    "\n",
    "Analyze what’s the overhead of the compiled program compared to the original one and propose how to improve it. What we mean by overhead is the following: by replacing all the initial gates with the restricted set of gates given in the problem, you will see that the resulting circuit is much more involved than the original one. This is what we called the overhead, and you may think about how to treat this problem, i.e. you could try to simplify as much as possible the resulting circuit.\n"
   ]
  },
  {
   "cell_type": "markdown",
   "metadata": {},
   "source": [
    "## 1. Gate Identities"
   ]
  },
  {
   "cell_type": "markdown",
   "metadata": {},
   "source": [
    "Rotational operators are defined as:"
   ]
  },
  {
   "cell_type": "markdown",
   "metadata": {},
   "source": [
    "$$\n",
    "\\begin{align}\n",
    "R_x(\\theta) &= \\begin{pmatrix} cos(\\frac{\\theta}{2}) & -isin(\\frac{\\theta}{2}) \\\\ -isin(\\frac{\\theta}{2}) & cos(\\frac{\\theta}{2}) \\end{pmatrix} \\\\\n",
    "R_y(\\theta) &= \\begin{pmatrix} cos(\\frac{\\theta}{2}) & -sin(\\frac{\\theta}{2}) \\\\ sin(\\frac{\\theta}{2}) & cos(\\frac{\\theta}{2}) \\end{pmatrix} \\\\\n",
    "R_z(\\theta) &= \\begin{pmatrix} e^{-i\\frac{\\theta}{2}} & 0 \\\\ 0 & e^{i\\frac{\\theta}{2}} \\end{pmatrix}\n",
    "\\end{align}\n",
    "$$"
   ]
  },
  {
   "cell_type": "markdown",
   "metadata": {},
   "source": [
    "It's easy to observe the following identities:"
   ]
  },
  {
   "cell_type": "markdown",
   "metadata": {},
   "source": [
    "$$\n",
    "X = \\begin{pmatrix} 0 & 1 \\\\ 1 & 0 \\end{pmatrix}\\propto R_x(\\pi) \\qquad\n",
    "Y = \\begin{pmatrix} 0 & -i \\\\ i & 0 \\end{pmatrix}\\propto R_y(\\pi) \\qquad\n",
    "Z = \\begin{pmatrix} 1 & 0 \\\\ 0 & -1 \\end{pmatrix}\\propto R_z(\\pi)\n",
    "$$"
   ]
  },
  {
   "cell_type": "markdown",
   "metadata": {},
   "source": [
    "where $\\propto$ denotes \"proportional to\", or \"**equivalent up to global phase**\"."
   ]
  },
  {
   "cell_type": "markdown",
   "metadata": {},
   "source": [
    "With the famous commutation relations of $X$, $Y$ and $Z$, we can also observe that:"
   ]
  },
  {
   "cell_type": "markdown",
   "metadata": {},
   "source": [
    "$$\n",
    "\\sigma_i \\sigma_j \\propto \\sigma_j \\sigma_i\n",
    "$$"
   ]
  },
  {
   "cell_type": "markdown",
   "metadata": {},
   "source": [
    "where $\\sigma_i, \\sigma_j \\in \\{I, X, Y, Z\\}$"
   ]
  },
  {
   "cell_type": "markdown",
   "metadata": {},
   "source": [
    "We can also easily express $S$ in terms of $R_z(\\theta)$:"
   ]
  },
  {
   "cell_type": "markdown",
   "metadata": {},
   "source": [
    "$$\n",
    "S = \\begin{pmatrix} 1 & 0 \\\\ 0 & i \\end{pmatrix}\\propto R_z(\\frac{\\pi}{2})\n",
    "$$"
   ]
  },
  {
   "cell_type": "markdown",
   "metadata": {},
   "source": [
    "Therefore, we have a way to express $R_y(\\theta)$ in terms of $R_x(\\theta)$ and $R_z(\\theta)$ by using the Clifford property of $S$ gate:"
   ]
  },
  {
   "cell_type": "markdown",
   "metadata": {},
   "source": [
    "$$\n",
    "\\begin{align}\n",
    "R_y(\\theta) &= SR_x(\\theta)S^{\\dagger}\\\\\n",
    "         &\\propto R_z(\\frac{\\pi}{2})R_x(\\theta)R_z(-\\frac{\\pi}{2})\n",
    "\\end{align}\n",
    "$$"
   ]
  },
  {
   "cell_type": "markdown",
   "metadata": {},
   "source": [
    "and also a way to express $Y$:"
   ]
  },
  {
   "cell_type": "markdown",
   "metadata": {},
   "source": [
    "$$\n",
    "\\begin{align}\n",
    "Y &\\propto R_y(\\pi)\\\\\n",
    "  &\\propto R_z(\\frac{\\pi}{2})R_x(\\pi)R_z(-\\frac{\\pi}{2})\n",
    "\\end{align}\n",
    "$$"
   ]
  },
  {
   "cell_type": "markdown",
   "metadata": {},
   "source": [
    "We can also express $H$ in terms of $R_x(\\theta)$ and $R_z(\\theta)$:"
   ]
  },
  {
   "cell_type": "markdown",
   "metadata": {},
   "source": [
    "$$\n",
    "\\begin{align}\n",
    "H &= \\frac{1}{\\sqrt{2}}\\begin{pmatrix} 1 & 1 \\\\ 1 & -1 \\end{pmatrix} \\\\\n",
    "&\\propto R_y(\\frac{\\pi}{2})R_z(\\pi) \\\\\n",
    "&\\propto R_z(\\frac{\\pi}{2})R_x(\\frac{\\pi}{2})R_z(\\frac{\\pi}{2})\n",
    "\\end{align}\n",
    "$$"
   ]
  },
  {
   "cell_type": "markdown",
   "metadata": {},
   "source": [
    "Therefore, transforming $CX$ to $CZ$, $R_x(\\theta)$ and $R_z(\\theta)$ is also realized using the Clifford property of $H$ gate:"
   ]
  },
  {
   "cell_type": "markdown",
   "metadata": {},
   "source": [
    "$$\n",
    "\\begin{align}\n",
    "CX_{0,1} &= H_1CZ_{0,1}H_1\\\\\n",
    "  &\\propto [R_z(\\frac{\\pi}{2})R_x(\\frac{\\pi}{2})R_z(\\frac{\\pi}{2})]_1 CZ_{0,1} [R_z(\\frac{\\pi}{2})R_x(\\frac{\\pi}{2})R_z(\\frac{\\pi}{2})]_1\\\\\n",
    "  &\\propto [R_z(\\frac{\\pi}{2})R_x(\\frac{\\pi}{2})]_1 CZ_{0, 1} [R_z(\\pi)R_x(\\frac{\\pi}{2})R_z(\\frac{\\pi}{2})]_1\\\\\n",
    "\\end{align}\n",
    "$$"
   ]
  },
  {
   "cell_type": "markdown",
   "metadata": {},
   "source": [
    "We can further observe X gate is equvalent to a 180° rotation around X-axis (or simple X gate) sandwiched by two 90° around Z-axis:"
   ]
  },
  {
   "cell_type": "markdown",
   "metadata": {},
   "source": [
    "$$\n",
    "\\begin{align}\n",
    "X &= HZH \\\\\n",
    "  &\\propto R_z(\\frac{\\pi}{2})R_x(\\frac{\\pi}{2})R_z(\\frac{\\pi}{2})ZR_z(\\frac{\\pi}{2})R_x(\\frac{\\pi}{2})R_z(\\frac{\\pi}{2})\\\\\n",
    "  &\\propto R_z(\\frac{\\pi}{2})Rx(\\pi)R_z(\\frac{\\pi}{2})\\\\\n",
    "  &\\propto R_z(\\frac{\\pi}{2})XR_z(\\frac{\\pi}{2})\\\\\n",
    "\\end{align}\n",
    "$$"
   ]
  },
  {
   "cell_type": "markdown",
   "metadata": {},
   "source": [
    "By symmetry, we have the other 5 equations:"
   ]
  },
  {
   "cell_type": "markdown",
   "metadata": {},
   "source": [
    "$$\n",
    "X \\propto R_y(\\frac{\\pi}{2})XR_y(\\frac{\\pi}{2})\\\\\n",
    "Y \\propto R_x(\\frac{\\pi}{2})YR_x(\\frac{\\pi}{2})\\\\\n",
    "Y \\propto R_z(\\frac{\\pi}{2})YR_z(\\frac{\\pi}{2})\\\\\n",
    "Z \\propto R_x(\\frac{\\pi}{2})ZR_x(\\frac{\\pi}{2})\\\\\n",
    "Z \\propto R_y(\\frac{\\pi}{2})ZR_y(\\frac{\\pi}{2})\n",
    "$$"
   ]
  },
  {
   "cell_type": "markdown",
   "metadata": {},
   "source": [
    "Therefore, a new way with one less gate to express $Y$ in terms of $R_x(\\theta)$ and $R_z(\\theta)$ is:"
   ]
  },
  {
   "cell_type": "markdown",
   "metadata": {},
   "source": [
    "$$\n",
    "\\begin{align}\n",
    "Y &\\propto R_z(\\frac{\\pi}{2})R_x(\\pi)R_z(-\\frac{\\pi}{2}) \\\\\n",
    "  &\\propto R_z(\\frac{\\pi}{2})R_z(\\frac{\\pi}{2})R_x(\\pi)R_z(-\\frac{\\pi}{2})R_z(\\frac{\\pi}{2})\\\\\n",
    "  &\\propto R_z(\\pi)R_x(\\pi) \\\\\n",
    "\\end{align}\n",
    "$$"
   ]
  },
  {
   "cell_type": "markdown",
   "metadata": {},
   "source": [
    "Therefore, we have all the identities used for circuit rewriting. Next we will mention several identities that will be useful for circuit optimization."
   ]
  },
  {
   "cell_type": "markdown",
   "metadata": {},
   "source": [
    "The two very obvious ones are gate merging:"
   ]
  },
  {
   "cell_type": "markdown",
   "metadata": {},
   "source": [
    "$$\n",
    "R_x(\\theta_1)R_x(\\theta_2) = R_x(\\theta_1+\\theta_2) \\qquad\n",
    "R_z(\\theta_1)R_z(\\theta_2) = R_z(\\theta_1+\\theta_2) \n",
    "$$"
   ]
  },
  {
   "cell_type": "markdown",
   "metadata": {},
   "source": [
    "Two of the equations mentioned before can also be used during circuit optimization. One is:"
   ]
  },
  {
   "cell_type": "markdown",
   "metadata": {},
   "source": [
    "$$\n",
    "R_x(\\pi) R_z(\\pi) \\propto R_z(\\pi) R_x(\\pi) \n",
    "$$"
   ]
  },
  {
   "cell_type": "markdown",
   "metadata": {},
   "source": [
    "which can be used to change order and seek for gate merging. The other is:"
   ]
  },
  {
   "cell_type": "markdown",
   "metadata": {},
   "source": [
    "$$\n",
    "R_z(\\frac{\\pi}{2})R_x(\\pi)R_z(\\frac{\\pi}{2}) \\propto R_x(\\pi)\\\\\n",
    "R_x(\\frac{\\pi}{2})R_z(\\pi)R_x(\\frac{\\pi}{2}) \\propto R_z(\\pi)\n",
    "$$"
   ]
  },
  {
   "cell_type": "markdown",
   "metadata": {},
   "source": [
    "which can be used to directly reduce the number of gates."
   ]
  },
  {
   "cell_type": "markdown",
   "metadata": {},
   "source": [
    "Another identity can be found by sandwiching $R_z(\\theta)$ with $H$ gate and expand it into a series of $R_z(\\theta)$ and $R_x(\\theta)$:"
   ]
  },
  {
   "cell_type": "markdown",
   "metadata": {},
   "source": [
    "$$\n",
    "\\begin{align}\n",
    "R_x(\\theta) &= HR_z(\\theta)H\\\\\n",
    "         &\\propto R_z(\\frac{\\pi}{2})R_x(\\frac{\\pi}{2})R_z(\\frac{\\pi}{2})R_z(\\theta)R_z(\\frac{\\pi}{2})R_x(\\frac{\\pi}{2})R_z(\\frac{\\pi}{2})\\\\\n",
    "         &= R_z(\\frac{\\pi}{2})R_x(\\frac{\\pi}{2})R_z(\\theta+\\pi)R_x(\\frac{\\pi}{2})R_z(\\frac{\\pi}{2})\n",
    "\\end{align}\n",
    "$$"
   ]
  },
  {
   "cell_type": "markdown",
   "metadata": {},
   "source": [
    "for wich we can do the same for $R_z(\\theta)$ and reverse the order to get two very useful identities for circuit optimization:"
   ]
  },
  {
   "cell_type": "markdown",
   "metadata": {},
   "source": [
    "$$\n",
    "R_z(\\alpha)R_x(\\frac{\\pi}{2})R_z(\\theta)R_x(\\frac{\\pi}{2})R_z(\\beta)\\propto R_z(\\alpha-\\frac{\\pi}{2})R_x(\\theta-\\pi)R_z(\\beta-\\frac{\\pi}{2})\\\\\n",
    "R_x(\\alpha)R_z(\\frac{\\pi}{2})R_x(\\theta)R_z(\\frac{\\pi}{2})R_x(\\beta)\\propto R_x(\\alpha-\\frac{\\pi}{2})R_z(\\theta-\\pi)R_x(\\beta-\\frac{\\pi}{2})\n",
    "$$"
   ]
  },
  {
   "cell_type": "markdown",
   "metadata": {},
   "source": [
    "It's also worth mentioning that $R_z(\\theta)$ can freely move across $CZ$ on both control and target qubit:"
   ]
  },
  {
   "cell_type": "markdown",
   "metadata": {},
   "source": [
    "$$\n",
    "CZ_{0, 1}R_z(\\theta)_0 \\propto R_z(\\theta)_0 CZ_{0, 1} \\\\\n",
    "CZ_{0, 1}R_z(\\theta)_1 \\propto R_z(\\theta)_1 CZ_{0, 1}\n",
    "$$"
   ]
  },
  {
   "cell_type": "markdown",
   "metadata": {},
   "source": [
    "and that concludes all the gate identities we'll be using throught the notebook."
   ]
  },
  {
   "cell_type": "markdown",
   "metadata": {},
   "source": [
    "## 2. Initialization"
   ]
  },
  {
   "cell_type": "markdown",
   "metadata": {},
   "source": [
    "This part of the notebook intializes packages and defines global variables."
   ]
  },
  {
   "cell_type": "code",
   "execution_count": 1,
   "metadata": {},
   "outputs": [
    {
     "name": "stderr",
     "output_type": "stream",
     "text": [
      "c:\\python37\\lib\\site-packages\\requests\\__init__.py:91: RequestsDependencyWarning: urllib3 (1.25.10) or chardet (3.0.4) doesn't match a supported version!\n",
      "  RequestsDependencyWarning)\n"
     ]
    }
   ],
   "source": [
    "#initialization\n",
    "import math\n",
    "import numpy as np\n",
    "import qiskit\n",
    "from qiskit import execute, Aer\n",
    "from qiskit.circuit.library import IGate, XGate, YGate, ZGate, HGate, SGate, RXGate, RYGate, RZGate, CXGate, CZGate\n",
    "from qiskit.quantum_info import Statevector\n",
    "import random\n",
    "from tabulate import tabulate\n",
    "\n",
    "pi = np.pi\n",
    "\n",
    "GATE_SET = {'i', 'h', 'x', 'y', 'z', 'rx', 'ry', 'rz', 'cx', 'cz'}\n",
    "BASIS_GATE_SET = {'rx', 'rz', 'cz'}\n",
    "\n",
    "I = IGate().to_matrix()\n",
    "X = XGate().to_matrix()\n",
    "Y = YGate().to_matrix()\n",
    "Z = ZGate().to_matrix()\n",
    "H = ZGate().to_matrix()\n",
    "S = ZGate().to_matrix()\n",
    "RX = lambda t:RXGate(t).to_matrix()\n",
    "RY = lambda t:RYGate(t).to_matrix()\n",
    "RZ = lambda t:RZGate(t).to_matrix()\n",
    "CX = CXGate().to_matrix()\n",
    "CZ = CZGate().to_matrix()"
   ]
  },
  {
   "cell_type": "markdown",
   "metadata": {},
   "source": [
    "## 3. Helper Functions"
   ]
  },
  {
   "cell_type": "markdown",
   "metadata": {},
   "source": [
    "This part of the notebook defines several helper functions."
   ]
  },
  {
   "cell_type": "code",
   "execution_count": 2,
   "metadata": {},
   "outputs": [],
   "source": [
    "# Helper functions\n",
    "\n",
    "def presice_matrix(gates):\n",
    "    # return the matrix of a list of gates in the precision of machine epsilon\n",
    "    if len(gates) == 0:\n",
    "        return 1\n",
    "    return gates[-1].to_matrix().dot(presice_matrix(gates[:-1]))\n",
    "\n",
    "def remove_global_phase(mat):\n",
    "    # return the matrix with its global phase removed\n",
    "    # global phase = the phase of the first non-zero term in first row\n",
    "    for i in range(len(mat[0])):\n",
    "        if np.round(mat[0][i], 3) != 0:\n",
    "            global_phase_angle = np.angle(mat[0][i])\n",
    "            break\n",
    "    global_phase = np.e**(global_phase_angle*1j)\n",
    "    return mat/global_phase\n",
    "\n",
    "def matrix(gates, precision=3):\n",
    "    # return the matrix of a list of gates in certain precision\n",
    "    if precision == None:\n",
    "        return precise_matrix(gates)\n",
    "    else:\n",
    "        return np.round(presice_matrix(gates), precision)\n",
    "\n",
    "def matrix_ng(gates, precision=3):\n",
    "    # return the matrix of a list of gates without global phase removed in certain precision\n",
    "    if len(gates) == 0:\n",
    "        return 1\n",
    "    mat = presice_matrix(gates)\n",
    "    mat = remove_global_phase(mat)\n",
    "    if precision == None:\n",
    "        return mat\n",
    "    else:\n",
    "        return np.round(mat, precision)\n",
    "\n",
    "def equal(gates1, gates2):\n",
    "    # return if two lists of gates are equal\n",
    "    return (matrix(gates1) == matrix(gates2)).all()\n",
    "\n",
    "def equal_ng(gates1, gates2):\n",
    "    # return if two lists of gates are equal up to global phase\n",
    "    return (matrix_ng(gates1) == matrix_ng(gates2)).all()\n",
    "\n",
    "def equal_mat(mat1, mat2):\n",
    "    # return if two matrices are equal\n",
    "    return (mat1 == mat2).all()\n",
    "\n",
    "def equal_mat_ng(mat1, mat2):\n",
    "    # return if two lists of gates are equal up to global phase\n",
    "    return (remove_global_phase(mat1) == remove_global_phase(mat2)).all()\n",
    "    \n",
    "def commute(gates1, gates2):\n",
    "    # return if two lists of gates commute\n",
    "    return equal(gates1+gates2, gates2+gates1)\n",
    "\n",
    "def commute_ng(gates1, gates2):\n",
    "    # return if two matrices commute up to global phase, or AB = exp(i*theta) BA\n",
    "    return equal_ng(gates1+gates2, gates2+gates1)\n",
    "\n",
    "def commute_mat(mat1, mat2):\n",
    "    # return if two matrices commute\n",
    "    return equal_mat(mat1.dot(mat2), mat2.dot(mat1))\n",
    "\n",
    "def commute_mat_ng(mat1, mat2):\n",
    "    # return if two matrices commute up to global phase, or AB = exp(i*theta) BA\n",
    "    return equal_mat_ng(mat1.dot(mat2), mat2.dot(mat1))\n",
    "\n",
    "def gate_to_str(gate):\n",
    "    # return info about a gate in str format\n",
    "    return gate.name if len(gate.params)==0 else f'{gate.name}({np.round(gate.params[0]/pi, 3)}pi)'\n",
    "\n",
    "def equal_circuit(qc1, qc2):\n",
    "    # return if two circutis are equal\n",
    "    backend_sim = Aer.get_backend('unitary_simulator')\n",
    "    job_sim = execute([qc1, qc2], backend_sim)\n",
    "    result_sim = job_sim.result()\n",
    "    unitary1 = result_sim.get_unitary(qc1)\n",
    "    unitary2 = result_sim.get_unitary(qc2)\n",
    "    return np.allclose(unitary1, unitary2)\n",
    "\n",
    "def equal_circuit_ng(qc1, qc2):\n",
    "    # return if two circuits are equal up to global phase\n",
    "    s1 = Statevector.from_instruction(qc1)\n",
    "    s2 = Statevector.from_instruction(qc2)\n",
    "    return s1.equiv(s2)\n",
    "\n",
    "def equal_test(gates1, gates2):\n",
    "    # print if two set of gates are equal or euqal up to global phase\n",
    "    print(f'{[gate_to_str(g) for g in gates1]} vs {[gate_to_str(g) for g in gates2]}')\n",
    "    print(f'equal: {equal(gates1, gates2)}')\n",
    "    print(f'equal up to global phase: {equal_ng(gates1, gates2)}')\n",
    "    print()\n",
    "\n",
    "def commute_test(gates1, gates2):\n",
    "    # print if two set of gates commute or commute up to global phase\n",
    "    print(f'{[gate_to_str(g) for g in gates1]} vs {[gate_to_str(g) for g in gates2]}')\n",
    "    print(f'commute: {commute(gates1, gates2)}')\n",
    "    print(f'commute up to global phase: {commute_ng(gates1, gates2)}')\n",
    "    print()"
   ]
  },
  {
   "cell_type": "markdown",
   "metadata": {},
   "source": [
    "## 4. Identity Verification"
   ]
  },
  {
   "cell_type": "markdown",
   "metadata": {},
   "source": [
    "We then use the helper functions defined above to verify some of the gate identies derived in the first section."
   ]
  },
  {
   "cell_type": "code",
   "execution_count": 3,
   "metadata": {},
   "outputs": [
    {
     "name": "stdout",
     "output_type": "stream",
     "text": [
      "['x'] vs ['z']\n",
      "commute: False\n",
      "commute up to global phase: True\n",
      "\n",
      "['y'] vs ['x', 'z']\n",
      "equal: False\n",
      "equal up to global phase: True\n",
      "\n",
      "['rz(-0.5pi)', 'rx(1.0pi)', 'rz(0.5pi)'] vs ['x', 'z']\n",
      "equal: False\n",
      "equal up to global phase: True\n",
      "\n",
      "['x'] vs ['rx(1.0pi)']\n",
      "equal: False\n",
      "equal up to global phase: True\n",
      "\n",
      "['h'] vs ['rz(1.0pi)', 'ry(0.5pi)']\n",
      "equal: False\n",
      "equal up to global phase: True\n",
      "\n",
      "['h'] vs ['rz(0.5pi)', 'rx(0.5pi)', 'rz(0.5pi)']\n",
      "equal: False\n",
      "equal up to global phase: True\n",
      "\n",
      "['ry(0.393pi)'] vs ['rz(-0.5pi)', 'rx(0.393pi)', 'rz(0.5pi)']\n",
      "equal: True\n",
      "equal up to global phase: True\n",
      "\n",
      "['rx(1.73pi)'] vs ['rx(0.73pi)', 'rx(1.0pi)']\n",
      "equal: True\n",
      "equal up to global phase: True\n",
      "\n",
      "['rx(0.393pi)'] vs ['rz(0.5pi)', 'rx(0.5pi)', 'rz(1.393pi)', 'rx(0.5pi)', 'rz(0.5pi)']\n",
      "equal: False\n",
      "equal up to global phase: True\n",
      "\n",
      "['rz(0.393pi)'] vs ['rx(0.5pi)', 'rz(0.5pi)', 'rx(1.393pi)', 'rz(0.5pi)', 'rx(0.5pi)']\n",
      "equal: False\n",
      "equal up to global phase: True\n",
      "\n",
      "['ry(0.5pi)', 'x', 'ry(0.5pi)'] vs ['x']\n",
      "equal: True\n",
      "equal up to global phase: True\n",
      "\n",
      "['rz(0.5pi)', 'x', 'rz(0.5pi)'] vs ['x']\n",
      "equal: True\n",
      "equal up to global phase: True\n",
      "\n",
      "['rx(0.5pi)', 'y', 'rx(0.5pi)'] vs ['y']\n",
      "equal: True\n",
      "equal up to global phase: True\n",
      "\n",
      "['rz(0.5pi)', 'y', 'rz(0.5pi)'] vs ['y']\n",
      "equal: True\n",
      "equal up to global phase: True\n",
      "\n",
      "['rx(0.5pi)', 'z', 'rx(0.5pi)'] vs ['z']\n",
      "equal: True\n",
      "equal up to global phase: True\n",
      "\n",
      "['ry(0.5pi)', 'rz(1.0pi)', 'ry(0.5pi)'] vs ['rz(1.0pi)']\n",
      "equal: True\n",
      "equal up to global phase: True\n",
      "\n",
      "True\n",
      "True\n"
     ]
    }
   ],
   "source": [
    "gates1 = [XGate()]\n",
    "gates2 = [ZGate()]\n",
    "commute_test(gates1, gates2)\n",
    "\n",
    "gates1 = [YGate()]\n",
    "gates2 = [XGate(), ZGate()]\n",
    "equal_test(gates1, gates2)\n",
    "\n",
    "gates1 = [RZGate(-pi/2), RXGate(pi), RZGate(pi/2)]\n",
    "gates2 = [XGate(), ZGate()]\n",
    "equal_test(gates1, gates2)\n",
    "\n",
    "gates1 = [XGate()]\n",
    "gates2 = [RXGate(pi)]\n",
    "equal_test(gates1, gates2)\n",
    "\n",
    "gates1 = [HGate()]\n",
    "gates2 = [RZGate(pi), RYGate(pi/2)]\n",
    "equal_test(gates1, gates2)\n",
    "\n",
    "gates1 = [HGate()]\n",
    "gates2 = [RZGate(pi/2), RXGate(pi/2), RZGate(pi/2)]\n",
    "equal_test(gates1, gates2)\n",
    "\n",
    "gates1 = [RYGate(1.2345)]\n",
    "gates2 = [RZGate(-pi/2), RXGate(1.2345), RZGate(pi/2)]\n",
    "equal_test(gates1, gates2)\n",
    "\n",
    "gates1 = [RXGate(5.4338)]\n",
    "gates2 = [RXGate(2.2922), RXGate(pi)]\n",
    "equal_test(gates1, gates2)\n",
    "\n",
    "gates1 = [RXGate(1.2345)]\n",
    "gates2 = [RZGate(pi/2), RXGate(pi/2), RZGate(1.2345+pi), RXGate(pi/2), RZGate(pi/2)]\n",
    "equal_test(gates1, gates2)\n",
    "\n",
    "gates1 = [RZGate(1.2345)]\n",
    "gates2 = [RXGate(pi/2), RZGate(pi/2), RXGate(1.2345+pi), RZGate(pi/2), RXGate(pi/2)]\n",
    "equal_test(gates1, gates2)\n",
    "\n",
    "gates1 = [RYGate(pi/2), XGate(), RYGate(pi/2)]\n",
    "gates2 = [XGate()]\n",
    "equal_test(gates1, gates2)\n",
    "\n",
    "gates1 = [RZGate(pi/2), XGate(), RZGate(pi/2)]\n",
    "gates2 = [XGate()]\n",
    "equal_test(gates1, gates2)\n",
    "\n",
    "gates1 = [RXGate(pi/2), YGate(), RXGate(pi/2)]\n",
    "gates2 = [YGate()]\n",
    "equal_test(gates1, gates2)\n",
    "\n",
    "gates1 = [RZGate(pi/2), YGate(), RZGate(pi/2)]\n",
    "gates2 = [YGate()]\n",
    "equal_test(gates1, gates2)\n",
    "\n",
    "gates1 = [RXGate(pi/2), ZGate(), RXGate(pi/2)]\n",
    "gates2 = [ZGate()]\n",
    "equal_test(gates1, gates2)\n",
    "\n",
    "gates1 = [RYGate(pi/2), RZGate(pi), RYGate(pi/2)]\n",
    "gates2 = [RZGate(pi)]\n",
    "equal_test(gates1, gates2)\n",
    "\n",
    "print(commute_mat_ng(np.kron(I, RZ(5.4321)), CZ))\n",
    "print(commute_mat_ng(np.kron(RZ(5.4321), I), CZ))"
   ]
  },
  {
   "cell_type": "markdown",
   "metadata": {},
   "source": [
    "## 5. Random Circuit Generator"
   ]
  },
  {
   "cell_type": "markdown",
   "metadata": {},
   "source": [
    "This function can generate a random circuit given number of qubits, number of gates and a restricted set of gates."
   ]
  },
  {
   "cell_type": "code",
   "execution_count": 4,
   "metadata": {},
   "outputs": [],
   "source": [
    "def random_qc(num_q, num_g, gate_set):\n",
    "    # create a random circuit with num_q qubits, num_g gates, and a restricted set of gates gate_set\n",
    "    qc = qiskit.QuantumCircuit(num_q)\n",
    "    for _ in range(num_g):\n",
    "        g_name = random.choice(list(gate_set))\n",
    "        if g_name[0] == 'c':\n",
    "            c_index, t_index = random.sample(range(num_q), 2)\n",
    "            getattr(qc, g_name)(c_index, t_index)\n",
    "        elif g_name[0] == 'r':\n",
    "            index = random.randint(0, num_q-1)\n",
    "            param = random.uniform(-2*pi, 2*pi)\n",
    "            getattr(qc, g_name)(param, index)\n",
    "        else:\n",
    "            index = random.randint(0, num_q-1)\n",
    "            getattr(qc, g_name)(index)\n",
    "    return qc"
   ]
  },
  {
   "cell_type": "markdown",
   "metadata": {},
   "source": [
    "## 6. Circuit Rewriting"
   ]
  },
  {
   "cell_type": "markdown",
   "metadata": {},
   "source": [
    "We rewrite the circuit by replacing each of the gate with their expressions in $\\{R_x, R_z, CZ\\}$. A complete set of rewriting rules:"
   ]
  },
  {
   "cell_type": "markdown",
   "metadata": {},
   "source": [
    "$$\n",
    "\\begin{align}\n",
    "I &\\rightarrow {Wire}\\\\\n",
    "H &\\rightarrow R_z(\\frac{\\pi}{2})R_x(\\frac{\\pi}{2})R_z(\\frac{\\pi}{2})\\\\\n",
    "X &\\rightarrow R_x(\\pi)\\\\\n",
    "Y &\\rightarrow R_y(\\pi)\\\\\n",
    "Z &\\rightarrow R_z(\\pi)\\\\\n",
    "R_x(\\theta) &\\rightarrow R_x(\\theta)\\\\\n",
    "R_y(\\theta) &\\rightarrow R_z(\\frac{\\pi}{2})R_x(\\theta)R_z(-\\frac{\\pi}{2})\\\\\n",
    "R_z(\\theta) &\\rightarrow R_z(\\theta)\\\\\n",
    "CX_{0, 1} &\\rightarrow [R_z(\\frac{\\pi}{2})R_x(\\frac{\\pi}{2})]_1 CZ_{0, 1} [R_z(\\pi)R_x(\\frac{\\pi}{2})R_z(\\frac{\\pi}{2})]_1\\\\\n",
    "CZ_{0, 1} &\\rightarrow CZ_{0, 1}\n",
    "\\end{align}\n",
    "$$"
   ]
  },
  {
   "cell_type": "code",
   "execution_count": 5,
   "metadata": {},
   "outputs": [],
   "source": [
    "def rewrite(qc):\n",
    "    # rewrite the circuit with {Rx, Rz, CZ} only\n",
    "    output_qc = qiskit.QuantumCircuit(qc.num_qubits)\n",
    "    for gate_info in qc.data:\n",
    "        gate = gate_info[0]\n",
    "        g_name = gate.name\n",
    "        index_list = gate_info[1]\n",
    "        if len(index_list) == 1:\n",
    "            index = index_list[0]\n",
    "            if g_name == 'i':\n",
    "                pass\n",
    "            elif g_name == 'h':\n",
    "                output_qc.rz(pi/2, index)\n",
    "                output_qc.rx(pi/2, index)\n",
    "                output_qc.rz(pi/2, index)\n",
    "            elif g_name == 'x':\n",
    "                output_qc.rx(pi, index)\n",
    "            elif g_name == 'y':\n",
    "                output_qc.rx(pi, index)\n",
    "                output_qc.rz(pi, index)\n",
    "            elif g_name == 'z':\n",
    "                output_qc.rz(pi, index)\n",
    "            elif g_name == 'rx':\n",
    "                output_qc.rx(gate.params[0], index)\n",
    "            elif g_name == 'ry':\n",
    "                output_qc.rz(-pi/2, index)\n",
    "                output_qc.rx(gate.params[0], index)\n",
    "                output_qc.rz(pi/2, index)\n",
    "            elif g_name == 'rz':\n",
    "                output_qc.rz(gate.params[0], index)\n",
    "        else:\n",
    "            c_index, t_index = index_list\n",
    "            if g_name == 'cx':\n",
    "                output_qc.rz(pi/2, t_index)\n",
    "                output_qc.rx(pi/2, t_index)\n",
    "                output_qc.rz(pi/2, t_index)\n",
    "                output_qc.rz(pi/2, t_index)\n",
    "                output_qc.cz(c_index, t_index)\n",
    "                output_qc.rx(pi/2, t_index)\n",
    "                output_qc.rz(pi/2, t_index)\n",
    "            elif g_name == 'cz':\n",
    "                output_qc.cz(c_index, t_index)\n",
    "    return output_qc"
   ]
  },
  {
   "cell_type": "markdown",
   "metadata": {},
   "source": [
    "## 7. Circuit Optimization (Solving the Overhead Problem)"
   ]
  },
  {
   "cell_type": "markdown",
   "metadata": {},
   "source": [
    "In this section, we will focus on circuit optimization. **Our main goal is to reduce both the number of gates and circuit depth, and we will focus on  reducing the number of one-qubit gates**."
   ]
  },
  {
   "cell_type": "markdown",
   "metadata": {},
   "source": [
    "### I. Gate Cleaning\n",
    "The first way of optimization is to remove gates with parameter values as mutiples of $2\\pi$; also ensures angles are in the range $[-\\pi, \\pi]$. Examples:"
   ]
  },
  {
   "cell_type": "markdown",
   "metadata": {},
   "source": [
    "$$\n",
    "R_x(4\\pi) \\rightarrow I \\qquad\n",
    "R_z(3\\pi) \\rightarrow R_z(\\pi)\n",
    "$$"
   ]
  },
  {
   "cell_type": "markdown",
   "metadata": {},
   "source": [
    "The cleaning process will not take place individually, but during and after other processes of optimization."
   ]
  },
  {
   "cell_type": "code",
   "execution_count": 6,
   "metadata": {},
   "outputs": [],
   "source": [
    "def clean_gates(qc):\n",
    "    # remove all Rx and Rz gates with parameter as mutiples of 2pi\n",
    "    # ensure parameters in the range (-pi, pi)\n",
    "    output_qc = qiskit.QuantumCircuit(qc.num_qubits)\n",
    "    num_gates = len(qc.data)\n",
    "    for i in range(num_gates):\n",
    "        gate_info_i = qc.data[i]\n",
    "        index_list_i = gate_info_i[1]\n",
    "        gate_i = gate_info_i[0]\n",
    "        g_name_i = gate_i.name\n",
    "    \n",
    "        if g_name_i in {'rz', 'rx'}:\n",
    "            param = gate_i.params[0]\n",
    "            if math.remainder(param, 2*pi) == 0:\n",
    "                pass\n",
    "            elif param > pi or param < -pi:\n",
    "                getattr(output_qc, g_name_i)(math.remainder(param, 2*pi), index_list_i[0])\n",
    "            else:\n",
    "                getattr(output_qc, g_name_i)(param, index_list_i[0])\n",
    "        elif g_name_i == 'cz':\n",
    "            getattr(output_qc, g_name_i)(*index_list_i)\n",
    "    \n",
    "    return output_qc"
   ]
  },
  {
   "cell_type": "markdown",
   "metadata": {},
   "source": [
    "### II. Gate Merging\n",
    "The merging process will be the main way to reduce the number of gates"
   ]
  },
  {
   "cell_type": "markdown",
   "metadata": {},
   "source": [
    "$$\n",
    "R_x(\\theta_1)R_x(\\theta_2) = R_x(\\theta_1+\\theta_2) \\qquad\n",
    "R_z(\\theta_1)R_z(\\theta_2) = R_z(\\theta_1+\\theta_2) \n",
    "$$"
   ]
  },
  {
   "cell_type": "markdown",
   "metadata": {},
   "source": [
    "The code also takes into account the commutation property of $R_z(\\theta)$ and $CZ$:"
   ]
  },
  {
   "cell_type": "markdown",
   "metadata": {},
   "source": [
    "$$\n",
    "CZ_{0, 1}R_z(\\theta)_0 \\propto R_z(\\theta)_0 CZ_{0, 1} \\\\\n",
    "CZ_{0, 1}R_z(\\theta)_1 \\propto R_z(\\theta)_1 CZ_{0, 1}\n",
    "$$"
   ]
  },
  {
   "cell_type": "markdown",
   "metadata": {},
   "source": [
    "which is very useful to combine two $R_z(\\theta)$ gates across $CZ$."
   ]
  },
  {
   "cell_type": "markdown",
   "metadata": {},
   "source": [
    "We will also remove consecutive pairs of $CZ$ gates. Under computational basis $CZ$ gate has no distinction between control and target qubits, and its conjugate transpose is itself, so adjacent pairs can be directly removed:"
   ]
  },
  {
   "cell_type": "markdown",
   "metadata": {},
   "source": [
    "$$\n",
    "CZ_{0, 1} = CZ_{1, 0} \\qquad\n",
    "CZ_{0, 1}CZ_{1, 0} = I\n",
    "$$"
   ]
  },
  {
   "cell_type": "markdown",
   "metadata": {},
   "source": [
    "The code breaks down into two parts: **merge_once** and **merge_all**. **merge_once** searches through the circuit and merge every pair it finds, while **merge_all** continues merging gates untill reaching the optimal circuit."
   ]
  },
  {
   "cell_type": "code",
   "execution_count": 7,
   "metadata": {},
   "outputs": [],
   "source": [
    "def merge_once(qc):\n",
    "    # Merge adjacent gates with same type once.\n",
    "    output_qc = qiskit.QuantumCircuit(qc.num_qubits)\n",
    "    num_gates = len(qc.data)\n",
    "    check_list = []\n",
    "    for i in range(num_gates):\n",
    "        if i in check_list:\n",
    "            continue\n",
    "            \n",
    "        gate_info_i = qc.data[i]\n",
    "        index_list_i = gate_info_i[1]\n",
    "        gate_i = gate_info_i[0]\n",
    "        g_name_i = gate_i.name\n",
    "\n",
    "        if g_name_i in {'rz', 'rx'}:\n",
    "            index_i = index_list_i[0]\n",
    "\n",
    "            for j in range(i+1, num_gates):\n",
    "\n",
    "                gate_info_j = qc.data[j]\n",
    "                index_list_j = gate_info_j[1]\n",
    "                gate_j = gate_info_j[0]\n",
    "                g_name_j = gate_j.name\n",
    "\n",
    "                if index_i not in index_list_j:\n",
    "                    continue\n",
    "                \n",
    "                if g_name_j == 'cz':\n",
    "                    if g_name_i == 'rz':\n",
    "                        pass\n",
    "                    elif g_name_i == 'rx':\n",
    "                        getattr(output_qc, g_name_i)(gate_i.params[0], index_i)\n",
    "                        break\n",
    "                elif g_name_j == g_name_i:\n",
    "                    param_sum = gate_i.params[0]+gate_j.params[0]\n",
    "                    getattr(output_qc, g_name_i)(param_sum, index_i)\n",
    "                    check_list.append(j)\n",
    "                    break\n",
    "                else:\n",
    "                    getattr(output_qc, g_name_i)(gate_i.params[0], index_i)\n",
    "                    break\n",
    "            else:\n",
    "                getattr(output_qc, g_name_i)(gate_i.params[0], index_i)\n",
    "\n",
    "        elif g_name_i == 'cz':\n",
    "            for j in range(i+1, num_gates):\n",
    "\n",
    "                gate_info_j = qc.data[j]\n",
    "                index_list_j = gate_info_j[1]\n",
    "                gate_j = gate_info_j[0]\n",
    "                g_name_j = gate_j.name\n",
    "\n",
    "                set_i = set(index_list_i)\n",
    "                set_j = set(index_list_j)\n",
    "\n",
    "                if set_j.intersection(set_i) == set():\n",
    "                    continue\n",
    "                if set_i == set_j:\n",
    "                    check_list.append(j)\n",
    "                    break\n",
    "                elif g_name_j == 'rz':\n",
    "                    pass\n",
    "                else:\n",
    "                    getattr(output_qc, g_name_i)(*index_list_i)\n",
    "                    break\n",
    "            else:\n",
    "                getattr(output_qc, g_name_i)(*index_list_i)\n",
    "    return output_qc\n",
    "\n",
    "def merge_all(qc):\n",
    "    # repeart the merging process untill the circuit is optimal\n",
    "    old_qc = qc\n",
    "    new_qc = clean_gates(merge_once(old_qc))\n",
    "    while len(new_qc.data) < len(old_qc.data):\n",
    "        old_qc = new_qc\n",
    "        new_qc = clean_gates(merge_once(old_qc))\n",
    "    return new_qc"
   ]
  },
  {
   "cell_type": "markdown",
   "metadata": {},
   "source": [
    "### III. Swapping $R_x(\\pi)$ and $R_z(\\pi)$\n",
    "This part uses the property:"
   ]
  },
  {
   "cell_type": "markdown",
   "metadata": {},
   "source": [
    "$$\n",
    "R_x(\\pi) R_z(\\pi) \\propto R_z(\\pi) R_x(\\pi) \n",
    "$$"
   ]
  },
  {
   "cell_type": "markdown",
   "metadata": {},
   "source": [
    "and tries to switch such pairs found in circuit. Each time it swaps it will merge the gates again, and see if swapping allow more gates to be merged together."
   ]
  },
  {
   "cell_type": "markdown",
   "metadata": {},
   "source": [
    "The code splits into two parts as well. **swap_once** swaps one pair each time, and **swap_and_merge_all** is a combination of swapping and merging."
   ]
  },
  {
   "cell_type": "code",
   "execution_count": 8,
   "metadata": {},
   "outputs": [],
   "source": [
    "def swap_once(qc, check_list=[]):\n",
    "    # swap the position of adjacent Rx(pi) and Rz(pi) once\n",
    "    output_qc = qc.copy()\n",
    "    num_gates = len(qc.data)\n",
    "    checked = None\n",
    "    for i in range(num_gates):\n",
    "        if i in check_list:\n",
    "            continue\n",
    "        gate_info_i = output_qc.data[i]\n",
    "        index_list_i = gate_info_i[1]\n",
    "        gate_i = gate_info_i[0]\n",
    "        g_name_i = gate_i.name\n",
    "\n",
    "        if g_name_i not in {'rz', 'rx'}:\n",
    "            continue\n",
    "        \n",
    "        if gate_i.params[0] == pi:\n",
    "            index_i = index_list_i[0]\n",
    "            for j in range(i+1, num_gates):\n",
    "\n",
    "                gate_info_j = output_qc.data[j]\n",
    "                index_list_j = gate_info_j[1]\n",
    "                gate_j = gate_info_j[0]\n",
    "                g_name_j = gate_j.name\n",
    "\n",
    "                if index_i in index_list_j:\n",
    "                    if len(index_list_j)==1 and g_name_i != g_name_j:\n",
    "                        if gate_j.params[0] == pi:\n",
    "                            output_qc.data[i], output_qc.data[j] = output_qc.data[j], output_qc.data[i]\n",
    "                            checked = i\n",
    "                    break\n",
    "            if checked != None:\n",
    "                break\n",
    "                    \n",
    "    return output_qc, checked\n",
    "\n",
    "def swap_and_merge_all(qc):\n",
    "    # try if the swap makes further optimization possible. Merge all if possible.\n",
    "    current_qc = merge_all(qc)\n",
    "    re_qc, checked = swap_once(current_qc)\n",
    "    check_list = []\n",
    "    while checked != None:\n",
    "        mer_re_qc = merge_all(re_qc)\n",
    "        if len(mer_re_qc.data) < len(current_qc.data):\n",
    "            current_qc = mer_re_qc\n",
    "            re_qc, checked = swap_once(current_qc)\n",
    "        else:\n",
    "            check_list.append(checked)\n",
    "            re_qc, checked = swap_once(current_qc, check_list)\n",
    "            \n",
    "    return current_qc"
   ]
  },
  {
   "cell_type": "markdown",
   "metadata": {},
   "source": [
    "### IV. Group Replacement\n",
    "This part finds particular groups of gates appeared in circuit and use two sets of identities to further optimize the circuit. The first is:"
   ]
  },
  {
   "cell_type": "markdown",
   "metadata": {},
   "source": [
    "$$\n",
    "R_z(\\frac{\\pi}{2})R_x(\\pi)R_z(\\frac{\\pi}{2}) \\propto R_x(\\pi)\\\\\n",
    "R_x(\\frac{\\pi}{2})R_z(\\pi)R_x(\\frac{\\pi}{2}) \\propto R_z(\\pi)\n",
    "$$"
   ]
  },
  {
   "cell_type": "markdown",
   "metadata": {},
   "source": [
    "and the second is:"
   ]
  },
  {
   "cell_type": "markdown",
   "metadata": {},
   "source": [
    "$$\n",
    "R_z(\\alpha)R_x(\\frac{\\pi}{2})R_z(\\theta)R_x(\\frac{\\pi}{2})R_z(\\beta)\\propto R_z(\\alpha-\\frac{\\pi}{2})R_x(\\theta-\\pi)R_z(\\beta-\\frac{\\pi}{2})\\\\\n",
    "R_x(\\alpha)R_z(\\frac{\\pi}{2})R_x(\\theta)R_z(\\frac{\\pi}{2})R_x(\\beta)\\propto R_x(\\alpha-\\frac{\\pi}{2})R_z(\\theta-\\pi)R_x(\\beta-\\frac{\\pi}{2})\n",
    "$$"
   ]
  },
  {
   "cell_type": "markdown",
   "metadata": {},
   "source": [
    "The funcion **find_next_n_gates** is a helper function in this section, which finds the next n gates after a given position in a circuit. The main function **group_and_merge_all** find the 4 particular groups from the above two equations and replace them by their simplified form. The extra 3 cases come from the fact that $R_z(\\alpha)$ commutes with $CZ$. For example, consider the group:"
   ]
  },
  {
   "cell_type": "markdown",
   "metadata": {},
   "source": [
    "$$\n",
    "R_z(\\alpha)_1CZ_{0,1}[R_x(\\frac{\\pi}{2})R_z(\\theta)R_x(\\frac{\\pi}{2})R_z(\\beta)]_1\n",
    "$$"
   ]
  },
  {
   "cell_type": "markdown",
   "metadata": {},
   "source": [
    "which can be optimized to:"
   ]
  },
  {
   "cell_type": "markdown",
   "metadata": {},
   "source": [
    "$$\n",
    "R_z(\\alpha-\\frac{\\pi}{2})_1CZ_{0, 1}[R_x(\\theta-\\pi)R_z(\\beta-\\frac{\\pi}{2})]_1\n",
    "$$"
   ]
  },
  {
   "cell_type": "markdown",
   "metadata": {},
   "source": [
    "so we need to take into account how $CZ$ can be inserted in between the group of gates."
   ]
  },
  {
   "cell_type": "code",
   "execution_count": 9,
   "metadata": {},
   "outputs": [],
   "source": [
    "def find_next_n_gates(qc, i, n):\n",
    "    # find the next n gates after a given gate in a circuit\n",
    "    gate_infos = qc.data\n",
    "    gate_list = []\n",
    "    for j in range(i+1, len(gate_infos)):\n",
    "        set_i = set(gate_infos[i][1])\n",
    "        set_j = set(gate_infos[j][1])\n",
    "        if set_j.intersection(set_i) != set():\n",
    "            gate_list.append(j)\n",
    "        if len(gate_list) == n:\n",
    "            return gate_list\n",
    "    \n",
    "    while len(gate_list) != n:\n",
    "        gate_list.append(None)\n",
    "    return gate_list\n",
    "\n",
    "# 4 lists of replacing rules as tuples\n",
    "# name_tuple_list: search for matched gate names\n",
    "# param_tuple_list: search for matched parameters\n",
    "# r_name_tuple_list: replace macthed gates\n",
    "# r_param_tuple_list: index or parameter replacing rules\n",
    "#                     number: inherent index_list: index of param_tuple\n",
    "#                     tuple: inherent parameter: (index of param_tuple, shift)\n",
    "\n",
    "name_tuple_list = [('rx', 'rz', 'rx'),\n",
    "                   ('rz', 'rx', 'rz'),\n",
    "                   ('rx', 'rz', 'rx', 'rz', 'rx'),\n",
    "                   ('rz', 'rx', 'rz', 'rx', 'rz'),\n",
    "                   ('rz', 'cz', 'rx', 'rz', 'rx', 'rz'),\n",
    "                   ('rz', 'rx', 'rz', 'rx', 'cz', 'rz'),\n",
    "                   ('rz', 'cz', 'rx', 'rz', 'rx', 'cz', 'rz')]\n",
    "\n",
    "param_tuple_list = [(pi/2, pi, pi/2),\n",
    "                    (pi/2, pi, pi/2),\n",
    "                    (None, pi/2, None, pi/2, None),\n",
    "                    (None, pi/2, None, pi/2, None),\n",
    "                    (None, None, pi/2, None, pi/2, None),\n",
    "                    (None, pi/2, None, pi/2, None, None),\n",
    "                    (None, None, pi/2, None, pi/2, None, None)]\n",
    "\n",
    "r_name_tuple_list = [('rz',),\n",
    "                     ('rx',),\n",
    "                     ('rx', 'rz', 'rx'),\n",
    "                     ('rz', 'rx', 'rz'),\n",
    "                     ('cz', 'rz', 'rx', 'rz'),\n",
    "                     ('rz', 'rx', 'rz', 'cz'),\n",
    "                     ('cz', 'rz', 'rx', 'rz', 'cz')]\n",
    "\n",
    "    \n",
    "\n",
    "r_param_tuple_list = [((1, 0),),\n",
    "                      ((1, 0),),\n",
    "                      ((0, -pi/2), (2, -pi), (4, -pi/2)),\n",
    "                      ((0, -pi/2), (2, -pi), (4, -pi/2)),\n",
    "                      (1, (0, -pi/2), (3, -pi), (5, -pi/2)),\n",
    "                      ((0, -pi/2), (2, -pi), (5, -pi/2), 4),\n",
    "                      (1, (0, -pi/2), (3, -pi), (6, -pi/2), 5)]\n",
    "\n",
    "def group_and_merge_all(qc):\n",
    "    # find macthed group of gates and replace according to the lists defined above\n",
    "    \n",
    "    for r_index in range(len(name_tuple_list)):\n",
    "        \n",
    "        check_set = set()\n",
    "        output_qc = qiskit.QuantumCircuit(qc.num_qubits)\n",
    "        num_gates = len(qc.data)\n",
    "    \n",
    "        name_tuple = name_tuple_list[r_index]\n",
    "        param_tuple = param_tuple_list[r_index]\n",
    "\n",
    "        r_name_tuple = r_name_tuple_list[r_index]\n",
    "        r_param_tuple = r_param_tuple_list[r_index]\n",
    "        \n",
    "        for i in range(num_gates):\n",
    "            \n",
    "            if i in check_set:\n",
    "                continue\n",
    "            \n",
    "            pos_list = [i]+find_next_n_gates(qc, i, len(name_tuple)-1)\n",
    "            \n",
    "            if None in pos_list:\n",
    "                pass\n",
    "            else:\n",
    "                \n",
    "                i_name_tuple = tuple(qc.data[p][0].name for p in pos_list)\n",
    "                i_param_tuple = tuple(None if (param_tuple[j] == None or len(qc.data[pos_list[j]][0].params) == 0) \\\n",
    "                                      else qc.data[pos_list[j]][0].params[0] for j in range(len(param_tuple)))\n",
    "\n",
    "                if i_name_tuple == name_tuple and i_param_tuple == param_tuple:\n",
    "                    for j in range(len(r_name_tuple)):\n",
    "                        n = r_name_tuple[j]\n",
    "                        p = r_param_tuple[j]\n",
    "                        if type(p) == int and n == 'cz':\n",
    "                            pos = pos_list[p]\n",
    "                            for k in range(pos_list[p-1]+1, pos):\n",
    "                                getattr(output_qc, qc.data[k][0].name)(*qc.data[k][0].params, *qc.data[k][1])\n",
    "                                check_set.add(k)\n",
    "                            getattr(output_qc, 'cz')(*qc.data[pos][1])\n",
    "                        elif type(p) == tuple:\n",
    "                            getattr(output_qc, n)(qc.data[pos_list[p[0]]][0].params[0]+p[1], qc.data[i][1][0])\n",
    "                    check_set = check_set.union(set(pos_list))\n",
    "                    continue\n",
    "            \n",
    "            gate_info = qc.data[i]\n",
    "            gate = gate_info[0]\n",
    "            gate_name = gate.name\n",
    "            index_list = gate_info[1]\n",
    "            \n",
    "            if gate_name in {'rx', 'rz'}:\n",
    "                getattr(output_qc, gate_name)(gate.params[0], *index_list)\n",
    "            elif gate_name == 'cz':\n",
    "                getattr(output_qc, gate_name)(*index_list)\n",
    "                \n",
    "        qc = merge_all(output_qc)\n",
    "\n",
    "    return output_qc"
   ]
  },
  {
   "cell_type": "markdown",
   "metadata": {},
   "source": [
    "## 8. Transpilation and Optimization Tests\n",
    "In this section we will test our transpilation and optimization processes."
   ]
  },
  {
   "cell_type": "markdown",
   "metadata": {},
   "source": [
    "We want to first define two tests: one tests if transpiled circuits are equal to intial circuit up to global phase and have the correct set of gate, one tests how well our optimization processes do."
   ]
  },
  {
   "cell_type": "code",
   "execution_count": 10,
   "metadata": {},
   "outputs": [],
   "source": [
    "def transpilation_results(qc_list, process_list):\n",
    "    # compare the equality and gate set of a list of circuits\n",
    "    \n",
    "    gate_set_list = [set(key for key in qc.count_ops()) for qc in qc_list]\n",
    "    equality_list = [equal_circuit_ng(qc_list[0], qc) for qc in qc_list]\n",
    "\n",
    "    print(tabulate(zip(process_list, equality_list, gate_set_list), \\\n",
    "                   headers=['Process', 'Equal to Intial Circuit Up to Global Phase', 'Gate Set'],\n",
    "                   tablefmt='pretty'))\n",
    "\n",
    "def optimization_results(qc_list, process_list):\n",
    "    # compare the depth and number of gates of a list of circuits\n",
    "    \n",
    "    depth_list = []\n",
    "    num_gates_list = []\n",
    "    \n",
    "    for qc in qc_list:\n",
    "        depth_list.append(qc.depth())\n",
    "        num_gates_list.append(len(qc.data))\n",
    "\n",
    "    print(tabulate(zip(process_list, depth_list, num_gates_list), \\\n",
    "                   headers=['Process', 'Circuit Depth', 'Number of Gates'],\n",
    "                   tablefmt='pretty'))"
   ]
  },
  {
   "cell_type": "markdown",
   "metadata": {},
   "source": [
    "We then define a circuit with each qubit testing for a specific feature. Specifically, **qubit_0** and **qubit_1** are for rewriting test, **qubit_2** and **qubit_3** are for merging test, **qubit_4** is for swapping test, **qubit_5** and **qubit_6** are for group replacement test."
   ]
  },
  {
   "cell_type": "code",
   "execution_count": 11,
   "metadata": {},
   "outputs": [
    {
     "data": {
      "text/html": [
       "<pre style=\"word-wrap: normal;white-space: pre;background: #fff0;line-height: 1.1;font-family: &quot;Courier New&quot;,Courier,monospace\">         ┌───┐         ┌───┐        ┌───┐         ┌───┐        ┌───┐   »\n",
       "q_0: ────┤ I ├─────────┤ X ├────────┤ Y ├─────────┤ Z ├────────┤ X ├───»\n",
       "         ├───┤       ┌─┴───┴──┐   ┌─┴───┴──┐    ┌─┴───┴──┐     └─┬─┘   »\n",
       "q_1: ────┤ H ├───────┤ RY(pi) ├───┤ RX(pi) ├────┤ RZ(pi) ├───────■─────»\n",
       "     ┌───┴───┴────┐┌─┴────────┴─┐ └────────┘ ┌──┴────────┴─┐           »\n",
       "q_2: ┤ RX(2.1416) ├┤ RX(4.1416) ├─────■──────┤ RZ(0.14159) ├─────■─────»\n",
       "     └────────────┘└────────────┘     │      └─────────────┘     │     »\n",
       "q_3: ─────────────────────────────────■──────────────────────────■─────»\n",
       "       ┌────────┐    ┌────────┐   ┌────────┐    ┌────────┐             »\n",
       "q_4: ──┤ RX(pi) ├────┤ RZ(pi) ├───┤ RX(pi) ├────┤ RZ(pi) ├─────────────»\n",
       "      ┌┴────────┴┐   ├────────┤  ┌┴────────┴┐   └────────┘             »\n",
       "q_5: ─┤ RX(pi/2) ├───┤ RZ(pi) ├──┤ RX(pi/2) ├──────────────────────────»\n",
       "      ├─────────┬┘  ┌┴────────┴┐ ├─────────┬┘  ┌──────────┐ ┌─────────┐»\n",
       "q_6: ─┤ RZ(3.2) ├───┤ RX(pi/2) ├─┤ RZ(1.3) ├───┤ RX(pi/2) ├─┤ RZ(5.6) ├»\n",
       "      └─────────┘   └──────────┘ └─────────┘   └──────────┘ └─────────┘»\n",
       "«                   \n",
       "«q_0: ──────■───────\n",
       "«           │       \n",
       "«q_1: ──────■───────\n",
       "«     ┌────────────┐\n",
       "«q_2: ┤ RZ(6.1416) ├\n",
       "«     └────────────┘\n",
       "«q_3: ──────────────\n",
       "«                   \n",
       "«q_4: ──────────────\n",
       "«                   \n",
       "«q_5: ──────────────\n",
       "«                   \n",
       "«q_6: ──────────────\n",
       "«                   </pre>"
      ],
      "text/plain": [
       "         ┌───┐         ┌───┐        ┌───┐         ┌───┐        ┌───┐   »\n",
       "q_0: ────┤ I ├─────────┤ X ├────────┤ Y ├─────────┤ Z ├────────┤ X ├───»\n",
       "         ├───┤       ┌─┴───┴──┐   ┌─┴───┴──┐    ┌─┴───┴──┐     └─┬─┘   »\n",
       "q_1: ────┤ H ├───────┤ RY(pi) ├───┤ RX(pi) ├────┤ RZ(pi) ├───────■─────»\n",
       "     ┌───┴───┴────┐┌─┴────────┴─┐ └────────┘ ┌──┴────────┴─┐           »\n",
       "q_2: ┤ RX(2.1416) ├┤ RX(4.1416) ├─────■──────┤ RZ(0.14159) ├─────■─────»\n",
       "     └────────────┘└────────────┘     │      └─────────────┘     │     »\n",
       "q_3: ─────────────────────────────────■──────────────────────────■─────»\n",
       "       ┌────────┐    ┌────────┐   ┌────────┐    ┌────────┐             »\n",
       "q_4: ──┤ RX(pi) ├────┤ RZ(pi) ├───┤ RX(pi) ├────┤ RZ(pi) ├─────────────»\n",
       "      ┌┴────────┴┐   ├────────┤  ┌┴────────┴┐   └────────┘             »\n",
       "q_5: ─┤ RX(pi/2) ├───┤ RZ(pi) ├──┤ RX(pi/2) ├──────────────────────────»\n",
       "      ├─────────┬┘  ┌┴────────┴┐ ├─────────┬┘  ┌──────────┐ ┌─────────┐»\n",
       "q_6: ─┤ RZ(3.2) ├───┤ RX(pi/2) ├─┤ RZ(1.3) ├───┤ RX(pi/2) ├─┤ RZ(5.6) ├»\n",
       "      └─────────┘   └──────────┘ └─────────┘   └──────────┘ └─────────┘»\n",
       "«                   \n",
       "«q_0: ──────■───────\n",
       "«           │       \n",
       "«q_1: ──────■───────\n",
       "«     ┌────────────┐\n",
       "«q_2: ┤ RZ(6.1416) ├\n",
       "«     └────────────┘\n",
       "«q_3: ──────────────\n",
       "«                   \n",
       "«q_4: ──────────────\n",
       "«                   \n",
       "«q_5: ──────────────\n",
       "«                   \n",
       "«q_6: ──────────────\n",
       "«                   "
      ]
     },
     "execution_count": 11,
     "metadata": {},
     "output_type": "execute_result"
    }
   ],
   "source": [
    "qc0 = qiskit.QuantumCircuit(7)\n",
    "\n",
    "# for rewriting test\n",
    "qc0.i(0)\n",
    "qc0.x(0)\n",
    "qc0.y(0)\n",
    "qc0.z(0)\n",
    "qc0.h(1)\n",
    "qc0.ry(pi, 1)\n",
    "qc0.rx(pi, 1)\n",
    "qc0.rz(pi, 1)\n",
    "qc0.cx(1, 0)\n",
    "qc0.cz(0, 1)\n",
    "\n",
    "# for merging test\n",
    "qc0.rx(pi-1, 2)\n",
    "qc0.rx(pi+1, 2)\n",
    "qc0.cz(3, 2)\n",
    "qc0.rz(pi-3, 2)\n",
    "qc0.cz(2, 3)\n",
    "qc0.rz(pi+3, 2)\n",
    "\n",
    "# for swapping test\n",
    "qc0.rx(pi, 4)\n",
    "qc0.rz(pi, 4)\n",
    "qc0.rx(pi, 4)\n",
    "qc0.rz(pi, 4)\n",
    "\n",
    "# for group replacement test\n",
    "qc0.rx(pi/2, 5)\n",
    "qc0.rz(pi, 5)\n",
    "qc0.rx(pi/2, 5)\n",
    "\n",
    "qc0.rz(3.2, 6)\n",
    "qc0.rx(pi/2, 6)\n",
    "qc0.rz(1.3, 6)\n",
    "qc0.rx(pi/2, 6)\n",
    "qc0.rz(5.6, 6)\n",
    "\n",
    "qc0.draw()"
   ]
  },
  {
   "cell_type": "markdown",
   "metadata": {},
   "source": [
    "After rewriting, gates on **qubit_0** and **qubit_1** should be fully replaced by $\\{R_x, R_z, CZ\\}$:"
   ]
  },
  {
   "cell_type": "code",
   "execution_count": 12,
   "metadata": {},
   "outputs": [
    {
     "data": {
      "text/html": [
       "<pre style=\"word-wrap: normal;white-space: pre;background: #fff0;line-height: 1.1;font-family: &quot;Courier New&quot;,Courier,monospace\">       ┌────────┐    ┌────────┐   ┌────────┐    ┌────────┐  ┌──────────┐»\n",
       "q_0: ──┤ RX(pi) ├────┤ RX(pi) ├───┤ RZ(pi) ├────┤ RZ(pi) ├──┤ RZ(pi/2) ├»\n",
       "      ┌┴────────┴┐  ┌┴────────┴┐ ┌┴────────┴┐ ┌─┴────────┴┐ └┬────────┬┘»\n",
       "q_1: ─┤ RZ(pi/2) ├──┤ RX(pi/2) ├─┤ RZ(pi/2) ├─┤ RZ(-pi/2) ├──┤ RX(pi) ├─»\n",
       "     ┌┴──────────┴┐┌┴──────────┴┐└──────────┘┌┴───────────┴┐ └────────┘ »\n",
       "q_2: ┤ RX(2.1416) ├┤ RX(4.1416) ├─────■──────┤ RZ(0.14159) ├─────■──────»\n",
       "     └────────────┘└────────────┘     │      └─────────────┘     │      »\n",
       "q_3: ─────────────────────────────────■──────────────────────────■──────»\n",
       "       ┌────────┐    ┌────────┐   ┌────────┐    ┌────────┐              »\n",
       "q_4: ──┤ RX(pi) ├────┤ RZ(pi) ├───┤ RX(pi) ├────┤ RZ(pi) ├──────────────»\n",
       "      ┌┴────────┴┐   ├────────┤  ┌┴────────┴┐   └────────┘              »\n",
       "q_5: ─┤ RX(pi/2) ├───┤ RZ(pi) ├──┤ RX(pi/2) ├───────────────────────────»\n",
       "      ├─────────┬┘  ┌┴────────┴┐ ├─────────┬┘  ┌──────────┐ ┌─────────┐ »\n",
       "q_6: ─┤ RZ(3.2) ├───┤ RX(pi/2) ├─┤ RZ(1.3) ├───┤ RX(pi/2) ├─┤ RZ(5.6) ├─»\n",
       "      └─────────┘   └──────────┘ └─────────┘   └──────────┘ └─────────┘ »\n",
       "«      ┌──────────┐ ┌──────────┐┌──────────┐   ┌──────────┐┌──────────┐   \n",
       "«q_0: ─┤ RX(pi/2) ├─┤ RZ(pi/2) ├┤ RZ(pi/2) ├─■─┤ RX(pi/2) ├┤ RZ(pi/2) ├─■─\n",
       "«      ├──────────┤ └┬────────┬┘└┬────────┬┘ │ └──────────┘└──────────┘ │ \n",
       "«q_1: ─┤ RZ(pi/2) ├──┤ RX(pi) ├──┤ RZ(pi) ├──■──────────────────────────■─\n",
       "«     ┌┴──────────┴┐ └────────┘  └────────┘                               \n",
       "«q_2: ┤ RZ(6.1416) ├──────────────────────────────────────────────────────\n",
       "«     └────────────┘                                                      \n",
       "«q_3: ────────────────────────────────────────────────────────────────────\n",
       "«                                                                         \n",
       "«q_4: ────────────────────────────────────────────────────────────────────\n",
       "«                                                                         \n",
       "«q_5: ────────────────────────────────────────────────────────────────────\n",
       "«                                                                         \n",
       "«q_6: ────────────────────────────────────────────────────────────────────\n",
       "«                                                                         </pre>"
      ],
      "text/plain": [
       "       ┌────────┐    ┌────────┐   ┌────────┐    ┌────────┐  ┌──────────┐»\n",
       "q_0: ──┤ RX(pi) ├────┤ RX(pi) ├───┤ RZ(pi) ├────┤ RZ(pi) ├──┤ RZ(pi/2) ├»\n",
       "      ┌┴────────┴┐  ┌┴────────┴┐ ┌┴────────┴┐ ┌─┴────────┴┐ └┬────────┬┘»\n",
       "q_1: ─┤ RZ(pi/2) ├──┤ RX(pi/2) ├─┤ RZ(pi/2) ├─┤ RZ(-pi/2) ├──┤ RX(pi) ├─»\n",
       "     ┌┴──────────┴┐┌┴──────────┴┐└──────────┘┌┴───────────┴┐ └────────┘ »\n",
       "q_2: ┤ RX(2.1416) ├┤ RX(4.1416) ├─────■──────┤ RZ(0.14159) ├─────■──────»\n",
       "     └────────────┘└────────────┘     │      └─────────────┘     │      »\n",
       "q_3: ─────────────────────────────────■──────────────────────────■──────»\n",
       "       ┌────────┐    ┌────────┐   ┌────────┐    ┌────────┐              »\n",
       "q_4: ──┤ RX(pi) ├────┤ RZ(pi) ├───┤ RX(pi) ├────┤ RZ(pi) ├──────────────»\n",
       "      ┌┴────────┴┐   ├────────┤  ┌┴────────┴┐   └────────┘              »\n",
       "q_5: ─┤ RX(pi/2) ├───┤ RZ(pi) ├──┤ RX(pi/2) ├───────────────────────────»\n",
       "      ├─────────┬┘  ┌┴────────┴┐ ├─────────┬┘  ┌──────────┐ ┌─────────┐ »\n",
       "q_6: ─┤ RZ(3.2) ├───┤ RX(pi/2) ├─┤ RZ(1.3) ├───┤ RX(pi/2) ├─┤ RZ(5.6) ├─»\n",
       "      └─────────┘   └──────────┘ └─────────┘   └──────────┘ └─────────┘ »\n",
       "«      ┌──────────┐ ┌──────────┐┌──────────┐   ┌──────────┐┌──────────┐   \n",
       "«q_0: ─┤ RX(pi/2) ├─┤ RZ(pi/2) ├┤ RZ(pi/2) ├─■─┤ RX(pi/2) ├┤ RZ(pi/2) ├─■─\n",
       "«      ├──────────┤ └┬────────┬┘└┬────────┬┘ │ └──────────┘└──────────┘ │ \n",
       "«q_1: ─┤ RZ(pi/2) ├──┤ RX(pi) ├──┤ RZ(pi) ├──■──────────────────────────■─\n",
       "«     ┌┴──────────┴┐ └────────┘  └────────┘                               \n",
       "«q_2: ┤ RZ(6.1416) ├──────────────────────────────────────────────────────\n",
       "«     └────────────┘                                                      \n",
       "«q_3: ────────────────────────────────────────────────────────────────────\n",
       "«                                                                         \n",
       "«q_4: ────────────────────────────────────────────────────────────────────\n",
       "«                                                                         \n",
       "«q_5: ────────────────────────────────────────────────────────────────────\n",
       "«                                                                         \n",
       "«q_6: ────────────────────────────────────────────────────────────────────\n",
       "«                                                                         "
      ]
     },
     "execution_count": 12,
     "metadata": {},
     "output_type": "execute_result"
    }
   ],
   "source": [
    "qc1 = rewrite(qc0)\n",
    "qc1.draw()"
   ]
  },
  {
   "cell_type": "markdown",
   "metadata": {},
   "source": [
    "After merging, gates on **qubit_2** and **qubit_3** should disapper:"
   ]
  },
  {
   "cell_type": "code",
   "execution_count": 13,
   "metadata": {},
   "outputs": [
    {
     "data": {
      "text/html": [
       "<pre style=\"word-wrap: normal;white-space: pre;background: #fff0;line-height: 1.1;font-family: &quot;Courier New&quot;,Courier,monospace\">       ┌──────────┐  ┌──────────┐ ┌────────┐                                »\n",
       "q_0: ──┤ RZ(pi/2) ├──┤ RX(pi/2) ├─┤ RZ(pi) ├──────────────────────────────■─»\n",
       "       ├──────────┤ ┌┴──────────┤┌┴────────┴┐ ┌────────┐    ┌────────┐    │ »\n",
       "q_1: ──┤ RZ(pi/2) ├─┤ RX(-pi/2) ├┤ RZ(pi/2) ├─┤ RX(pi) ├────┤ RZ(pi) ├────■─»\n",
       "       └──────────┘ └───────────┘└──────────┘ └────────┘    └────────┘      »\n",
       "q_2: ───────────────────────────────────────────────────────────────────────»\n",
       "                                                                            »\n",
       "q_3: ───────────────────────────────────────────────────────────────────────»\n",
       "        ┌────────┐    ┌────────┐  ┌────────┐  ┌────────┐                    »\n",
       "q_4: ───┤ RX(pi) ├────┤ RZ(pi) ├──┤ RX(pi) ├──┤ RZ(pi) ├────────────────────»\n",
       "       ┌┴────────┴┐   ├────────┤ ┌┴────────┴┐ └────────┘                    »\n",
       "q_5: ──┤ RX(pi/2) ├───┤ RZ(pi) ├─┤ RX(pi/2) ├───────────────────────────────»\n",
       "     ┌─┴──────────┴┐ ┌┴────────┴┐├─────────┬┘┌──────────┐┌──────────────┐   »\n",
       "q_6: ┤ RZ(-3.0832) ├─┤ RX(pi/2) ├┤ RZ(1.3) ├─┤ RX(pi/2) ├┤ RZ(-0.68319) ├───»\n",
       "     └─────────────┘ └──────────┘└─────────┘ └──────────┘└──────────────┘   »\n",
       "«     ┌──────────┐┌──────────┐   \n",
       "«q_0: ┤ RX(pi/2) ├┤ RZ(pi/2) ├─■─\n",
       "«     └──────────┘└──────────┘ │ \n",
       "«q_1: ─────────────────────────■─\n",
       "«                                \n",
       "«q_2: ───────────────────────────\n",
       "«                                \n",
       "«q_3: ───────────────────────────\n",
       "«                                \n",
       "«q_4: ───────────────────────────\n",
       "«                                \n",
       "«q_5: ───────────────────────────\n",
       "«                                \n",
       "«q_6: ───────────────────────────\n",
       "«                                </pre>"
      ],
      "text/plain": [
       "       ┌──────────┐  ┌──────────┐ ┌────────┐                                »\n",
       "q_0: ──┤ RZ(pi/2) ├──┤ RX(pi/2) ├─┤ RZ(pi) ├──────────────────────────────■─»\n",
       "       ├──────────┤ ┌┴──────────┤┌┴────────┴┐ ┌────────┐    ┌────────┐    │ »\n",
       "q_1: ──┤ RZ(pi/2) ├─┤ RX(-pi/2) ├┤ RZ(pi/2) ├─┤ RX(pi) ├────┤ RZ(pi) ├────■─»\n",
       "       └──────────┘ └───────────┘└──────────┘ └────────┘    └────────┘      »\n",
       "q_2: ───────────────────────────────────────────────────────────────────────»\n",
       "                                                                            »\n",
       "q_3: ───────────────────────────────────────────────────────────────────────»\n",
       "        ┌────────┐    ┌────────┐  ┌────────┐  ┌────────┐                    »\n",
       "q_4: ───┤ RX(pi) ├────┤ RZ(pi) ├──┤ RX(pi) ├──┤ RZ(pi) ├────────────────────»\n",
       "       ┌┴────────┴┐   ├────────┤ ┌┴────────┴┐ └────────┘                    »\n",
       "q_5: ──┤ RX(pi/2) ├───┤ RZ(pi) ├─┤ RX(pi/2) ├───────────────────────────────»\n",
       "     ┌─┴──────────┴┐ ┌┴────────┴┐├─────────┬┘┌──────────┐┌──────────────┐   »\n",
       "q_6: ┤ RZ(-3.0832) ├─┤ RX(pi/2) ├┤ RZ(1.3) ├─┤ RX(pi/2) ├┤ RZ(-0.68319) ├───»\n",
       "     └─────────────┘ └──────────┘└─────────┘ └──────────┘└──────────────┘   »\n",
       "«     ┌──────────┐┌──────────┐   \n",
       "«q_0: ┤ RX(pi/2) ├┤ RZ(pi/2) ├─■─\n",
       "«     └──────────┘└──────────┘ │ \n",
       "«q_1: ─────────────────────────■─\n",
       "«                                \n",
       "«q_2: ───────────────────────────\n",
       "«                                \n",
       "«q_3: ───────────────────────────\n",
       "«                                \n",
       "«q_4: ───────────────────────────\n",
       "«                                \n",
       "«q_5: ───────────────────────────\n",
       "«                                \n",
       "«q_6: ───────────────────────────\n",
       "«                                "
      ]
     },
     "execution_count": 13,
     "metadata": {},
     "output_type": "execute_result"
    }
   ],
   "source": [
    "qc2 = merge_all(qc1)\n",
    "qc2.draw()"
   ]
  },
  {
   "cell_type": "markdown",
   "metadata": {},
   "source": [
    "After swapping, gates on **qubit_4** should disappear:"
   ]
  },
  {
   "cell_type": "code",
   "execution_count": 14,
   "metadata": {},
   "outputs": [
    {
     "data": {
      "text/html": [
       "<pre style=\"word-wrap: normal;white-space: pre;background: #fff0;line-height: 1.1;font-family: &quot;Courier New&quot;,Courier,monospace\">       ┌──────────┐  ┌──────────┐  ┌────────┐                             »\n",
       "q_0: ──┤ RZ(pi/2) ├──┤ RX(pi/2) ├──┤ RZ(pi) ├────────────────────■────────»\n",
       "       ├──────────┤ ┌┴──────────┤┌─┴────────┴┐ ┌────────┐        │        »\n",
       "q_1: ──┤ RZ(pi/2) ├─┤ RX(-pi/2) ├┤ RZ(-pi/2) ├─┤ RX(pi) ├────────■────────»\n",
       "       └──────────┘ └───────────┘└───────────┘ └────────┘                 »\n",
       "q_2: ─────────────────────────────────────────────────────────────────────»\n",
       "                                                                          »\n",
       "q_3: ─────────────────────────────────────────────────────────────────────»\n",
       "                                                                          »\n",
       "q_4: ─────────────────────────────────────────────────────────────────────»\n",
       "       ┌──────────┐   ┌────────┐  ┌──────────┐                            »\n",
       "q_5: ──┤ RX(pi/2) ├───┤ RZ(pi) ├──┤ RX(pi/2) ├────────────────────────────»\n",
       "     ┌─┴──────────┴┐ ┌┴────────┴┐ ├─────────┬┘┌──────────┐┌──────────────┐»\n",
       "q_6: ┤ RZ(-3.0832) ├─┤ RX(pi/2) ├─┤ RZ(1.3) ├─┤ RX(pi/2) ├┤ RZ(-0.68319) ├»\n",
       "     └─────────────┘ └──────────┘ └─────────┘ └──────────┘└──────────────┘»\n",
       "«     ┌──────────┐┌──────────┐   \n",
       "«q_0: ┤ RX(pi/2) ├┤ RZ(pi/2) ├─■─\n",
       "«     └──────────┘└──────────┘ │ \n",
       "«q_1: ─────────────────────────■─\n",
       "«                                \n",
       "«q_2: ───────────────────────────\n",
       "«                                \n",
       "«q_3: ───────────────────────────\n",
       "«                                \n",
       "«q_4: ───────────────────────────\n",
       "«                                \n",
       "«q_5: ───────────────────────────\n",
       "«                                \n",
       "«q_6: ───────────────────────────\n",
       "«                                </pre>"
      ],
      "text/plain": [
       "       ┌──────────┐  ┌──────────┐  ┌────────┐                             »\n",
       "q_0: ──┤ RZ(pi/2) ├──┤ RX(pi/2) ├──┤ RZ(pi) ├────────────────────■────────»\n",
       "       ├──────────┤ ┌┴──────────┤┌─┴────────┴┐ ┌────────┐        │        »\n",
       "q_1: ──┤ RZ(pi/2) ├─┤ RX(-pi/2) ├┤ RZ(-pi/2) ├─┤ RX(pi) ├────────■────────»\n",
       "       └──────────┘ └───────────┘└───────────┘ └────────┘                 »\n",
       "q_2: ─────────────────────────────────────────────────────────────────────»\n",
       "                                                                          »\n",
       "q_3: ─────────────────────────────────────────────────────────────────────»\n",
       "                                                                          »\n",
       "q_4: ─────────────────────────────────────────────────────────────────────»\n",
       "       ┌──────────┐   ┌────────┐  ┌──────────┐                            »\n",
       "q_5: ──┤ RX(pi/2) ├───┤ RZ(pi) ├──┤ RX(pi/2) ├────────────────────────────»\n",
       "     ┌─┴──────────┴┐ ┌┴────────┴┐ ├─────────┬┘┌──────────┐┌──────────────┐»\n",
       "q_6: ┤ RZ(-3.0832) ├─┤ RX(pi/2) ├─┤ RZ(1.3) ├─┤ RX(pi/2) ├┤ RZ(-0.68319) ├»\n",
       "     └─────────────┘ └──────────┘ └─────────┘ └──────────┘└──────────────┘»\n",
       "«     ┌──────────┐┌──────────┐   \n",
       "«q_0: ┤ RX(pi/2) ├┤ RZ(pi/2) ├─■─\n",
       "«     └──────────┘└──────────┘ │ \n",
       "«q_1: ─────────────────────────■─\n",
       "«                                \n",
       "«q_2: ───────────────────────────\n",
       "«                                \n",
       "«q_3: ───────────────────────────\n",
       "«                                \n",
       "«q_4: ───────────────────────────\n",
       "«                                \n",
       "«q_5: ───────────────────────────\n",
       "«                                \n",
       "«q_6: ───────────────────────────\n",
       "«                                "
      ]
     },
     "execution_count": 14,
     "metadata": {},
     "output_type": "execute_result"
    }
   ],
   "source": [
    "qc3 = swap_and_merge_all(qc2)\n",
    "qc3.draw()"
   ]
  },
  {
   "cell_type": "markdown",
   "metadata": {},
   "source": [
    "After group replacement, gates on **qubit_5** and **qubit_6** shoud have number reduced:"
   ]
  },
  {
   "cell_type": "code",
   "execution_count": 15,
   "metadata": {},
   "outputs": [
    {
     "data": {
      "text/html": [
       "<pre style=\"word-wrap: normal;white-space: pre;background: #fff0;line-height: 1.1;font-family: &quot;Courier New&quot;,Courier,monospace\">      ┌──────────┐   ┌──────────┐   ┌────────┐               ┌──────────┐»\n",
       "q_0: ─┤ RZ(pi/2) ├───┤ RX(pi/2) ├───┤ RZ(pi) ├─────────────■─┤ RX(pi/2) ├»\n",
       "      ├──────────┤  ┌┴──────────┤ ┌─┴────────┴┐ ┌────────┐ │ └──────────┘»\n",
       "q_1: ─┤ RZ(pi/2) ├──┤ RX(-pi/2) ├─┤ RZ(-pi/2) ├─┤ RX(pi) ├─■─────────────»\n",
       "      └──────────┘  └───────────┘ └───────────┘ └────────┘               »\n",
       "q_2: ────────────────────────────────────────────────────────────────────»\n",
       "                                                                         »\n",
       "q_3: ────────────────────────────────────────────────────────────────────»\n",
       "                                                                         »\n",
       "q_4: ────────────────────────────────────────────────────────────────────»\n",
       "       ┌────────┐                                                        »\n",
       "q_5: ──┤ RZ(pi) ├────────────────────────────────────────────────────────»\n",
       "     ┌─┴────────┴─┐┌─────────────┐┌────────────┐                         »\n",
       "q_6: ┤ RZ(1.6292) ├┤ RX(-1.8416) ├┤ RZ(-2.254) ├─────────────────────────»\n",
       "     └────────────┘└─────────────┘└────────────┘                         »\n",
       "«     ┌──────────┐   \n",
       "«q_0: ┤ RZ(pi/2) ├─■─\n",
       "«     └──────────┘ │ \n",
       "«q_1: ─────────────■─\n",
       "«                    \n",
       "«q_2: ───────────────\n",
       "«                    \n",
       "«q_3: ───────────────\n",
       "«                    \n",
       "«q_4: ───────────────\n",
       "«                    \n",
       "«q_5: ───────────────\n",
       "«                    \n",
       "«q_6: ───────────────\n",
       "«                    </pre>"
      ],
      "text/plain": [
       "      ┌──────────┐   ┌──────────┐   ┌────────┐               ┌──────────┐»\n",
       "q_0: ─┤ RZ(pi/2) ├───┤ RX(pi/2) ├───┤ RZ(pi) ├─────────────■─┤ RX(pi/2) ├»\n",
       "      ├──────────┤  ┌┴──────────┤ ┌─┴────────┴┐ ┌────────┐ │ └──────────┘»\n",
       "q_1: ─┤ RZ(pi/2) ├──┤ RX(-pi/2) ├─┤ RZ(-pi/2) ├─┤ RX(pi) ├─■─────────────»\n",
       "      └──────────┘  └───────────┘ └───────────┘ └────────┘               »\n",
       "q_2: ────────────────────────────────────────────────────────────────────»\n",
       "                                                                         »\n",
       "q_3: ────────────────────────────────────────────────────────────────────»\n",
       "                                                                         »\n",
       "q_4: ────────────────────────────────────────────────────────────────────»\n",
       "       ┌────────┐                                                        »\n",
       "q_5: ──┤ RZ(pi) ├────────────────────────────────────────────────────────»\n",
       "     ┌─┴────────┴─┐┌─────────────┐┌────────────┐                         »\n",
       "q_6: ┤ RZ(1.6292) ├┤ RX(-1.8416) ├┤ RZ(-2.254) ├─────────────────────────»\n",
       "     └────────────┘└─────────────┘└────────────┘                         »\n",
       "«     ┌──────────┐   \n",
       "«q_0: ┤ RZ(pi/2) ├─■─\n",
       "«     └──────────┘ │ \n",
       "«q_1: ─────────────■─\n",
       "«                    \n",
       "«q_2: ───────────────\n",
       "«                    \n",
       "«q_3: ───────────────\n",
       "«                    \n",
       "«q_4: ───────────────\n",
       "«                    \n",
       "«q_5: ───────────────\n",
       "«                    \n",
       "«q_6: ───────────────\n",
       "«                    "
      ]
     },
     "execution_count": 15,
     "metadata": {},
     "output_type": "execute_result"
    }
   ],
   "source": [
    "qc4 = group_and_merge_all(qc3)\n",
    "qc4.draw()"
   ]
  },
  {
   "cell_type": "markdown",
   "metadata": {},
   "source": [
    "The circuits above should be equivalent up to global phase, and the gate set used in the last 4 circuits should be $\\{R_x, R_z, CZ\\}$:"
   ]
  },
  {
   "cell_type": "code",
   "execution_count": 16,
   "metadata": {},
   "outputs": [
    {
     "name": "stdout",
     "output_type": "stream",
     "text": [
      "+-------------------+--------------------------------------------+----------------------------------------------------------+\n",
      "|      Process      | Equal to Intial Circuit Up to Global Phase |                         Gate Set                         |\n",
      "+-------------------+--------------------------------------------+----------------------------------------------------------+\n",
      "|  Initial Circuit  |                    True                    | {'h', 'ry', 'cx', 'cz', 'rz', 'y', 'z', 'id', 'x', 'rx'} |\n",
      "| Circuit Rewriting |                    True                    |                    {'cz', 'rz', 'rx'}                    |\n",
      "|   Gate Merging    |                    True                    |                    {'cz', 'rz', 'rx'}                    |\n",
      "|     Swapping      |                    True                    |                    {'cz', 'rz', 'rx'}                    |\n",
      "| Group Replcement  |                    True                    |                    {'cz', 'rz', 'rx'}                    |\n",
      "+-------------------+--------------------------------------------+----------------------------------------------------------+\n"
     ]
    }
   ],
   "source": [
    "transpilation_results([qc0, qc1, qc2, qc3, qc4], \\\n",
    "                      ['Initial Circuit', 'Circuit Rewriting', 'Gate Merging', 'Swapping', 'Group Replcement'])"
   ]
  },
  {
   "cell_type": "markdown",
   "metadata": {},
   "source": [
    "The circuit depth and number of gates should also be reduced compared to the circuit after rewrting:"
   ]
  },
  {
   "cell_type": "code",
   "execution_count": 17,
   "metadata": {},
   "outputs": [
    {
     "name": "stdout",
     "output_type": "stream",
     "text": [
      "+-------------------+---------------+-----------------+\n",
      "|      Process      | Circuit Depth | Number of Gates |\n",
      "+-------------------+---------------+-----------------+\n",
      "|  Initial Circuit  |       6       |       28        |\n",
      "| Circuit Rewriting |      12       |       38        |\n",
      "|   Gate Merging    |       9       |       24        |\n",
      "|     Swapping      |       8       |       19        |\n",
      "| Group Replcement  |       8       |       15        |\n",
      "+-------------------+---------------+-----------------+\n"
     ]
    }
   ],
   "source": [
    "optimization_results([qc0, qc1, qc2, qc3, qc4], \\\n",
    "                 ['Initial Circuit', 'Circuit Rewriting', 'Gate Merging', 'Swapping', 'Group Replcement'])"
   ]
  },
  {
   "cell_type": "markdown",
   "metadata": {},
   "source": [
    "## 9. Stress Test\n",
    "In this last section we will be stress testing our program. We will feed a huge random circuit with 1000 gates, and see how our program performs on such huge circuit. We'll verify that the final transpiled and optimized circuit is equivalent to the inital circuit."
   ]
  },
  {
   "cell_type": "code",
   "execution_count": 18,
   "metadata": {},
   "outputs": [],
   "source": [
    "qc0 = random_qc(3, 1000, GATE_SET)\n",
    "#qc0.draw()"
   ]
  },
  {
   "cell_type": "code",
   "execution_count": 19,
   "metadata": {},
   "outputs": [],
   "source": [
    "qc1 = rewrite(qc0)\n",
    "#qc1.draw()"
   ]
  },
  {
   "cell_type": "code",
   "execution_count": 20,
   "metadata": {},
   "outputs": [],
   "source": [
    "qc2 = merge_all(qc1)\n",
    "#qc2.draw()"
   ]
  },
  {
   "cell_type": "code",
   "execution_count": 21,
   "metadata": {},
   "outputs": [],
   "source": [
    "qc3 = swap_and_merge_all(qc2)\n",
    "#qc3.draw()"
   ]
  },
  {
   "cell_type": "code",
   "execution_count": 22,
   "metadata": {},
   "outputs": [],
   "source": [
    "qc4 = group_and_merge_all(qc3)\n",
    "#qc4.draw()"
   ]
  },
  {
   "cell_type": "code",
   "execution_count": 23,
   "metadata": {},
   "outputs": [
    {
     "name": "stdout",
     "output_type": "stream",
     "text": [
      "+-------------------+--------------------------------------------+----------------------------------------------------------+\n",
      "|      Process      | Equal to Intial Circuit Up to Global Phase |                         Gate Set                         |\n",
      "+-------------------+--------------------------------------------+----------------------------------------------------------+\n",
      "|  Initial Circuit  |                    True                    | {'h', 'ry', 'rz', 'cz', 'y', 'z', 'id', 'rx', 'cx', 'x'} |\n",
      "| Circuit Rewriting |                    True                    |                    {'cz', 'rz', 'rx'}                    |\n",
      "|   Gate Merging    |                    True                    |                    {'cz', 'rz', 'rx'}                    |\n",
      "|     Swapping      |                    True                    |                    {'cz', 'rz', 'rx'}                    |\n",
      "| Group Replcement  |                    True                    |                    {'cz', 'rz', 'rx'}                    |\n",
      "+-------------------+--------------------------------------------+----------------------------------------------------------+\n"
     ]
    }
   ],
   "source": [
    "transpilation_results([qc0, qc1, qc2, qc3, qc4], \\\n",
    "                      ['Initial Circuit', 'Circuit Rewriting', 'Gate Merging', 'Swapping', 'Group Replcement'])"
   ]
  },
  {
   "cell_type": "code",
   "execution_count": 24,
   "metadata": {},
   "outputs": [
    {
     "name": "stdout",
     "output_type": "stream",
     "text": [
      "+-------------------+---------------+-----------------+\n",
      "|      Process      | Circuit Depth | Number of Gates |\n",
      "+-------------------+---------------+-----------------+\n",
      "|  Initial Circuit  |      566      |      1000       |\n",
      "| Circuit Rewriting |     1184      |      2064       |\n",
      "|   Gate Merging    |      814      |      1373       |\n",
      "|     Swapping      |      785      |      1307       |\n",
      "| Group Replcement  |      650      |      1055       |\n",
      "+-------------------+---------------+-----------------+\n"
     ]
    }
   ],
   "source": [
    "optimization_results([qc0, qc1, qc2, qc3, qc4], \\\n",
    "                 ['Initial Circuit', 'Circuit Rewriting', 'Gate Merging', 'Swapping', 'Group Replcement'])"
   ]
  },
  {
   "cell_type": "markdown",
   "metadata": {},
   "source": [
    "The number of gates is reduced from 2064 to 1055 -- almost half of the gates are removed!"
   ]
  }
 ],
 "metadata": {
  "kernelspec": {
   "display_name": "Python 3",
   "language": "python",
   "name": "python3"
  },
  "language_info": {
   "codemirror_mode": {
    "name": "ipython",
    "version": 3
   },
   "file_extension": ".py",
   "mimetype": "text/x-python",
   "name": "python",
   "nbconvert_exporter": "python",
   "pygments_lexer": "ipython3",
   "version": "3.7.4"
  }
 },
 "nbformat": 4,
 "nbformat_minor": 4
}
