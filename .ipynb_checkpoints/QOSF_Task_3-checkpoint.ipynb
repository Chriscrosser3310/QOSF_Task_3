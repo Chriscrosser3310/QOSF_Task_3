{
 "cells": [
  {
   "cell_type": "markdown",
   "metadata": {},
   "source": [
    "$$\n",
    "R_x(\\theta) = \\begin{pmatrix} cos(\\frac{\\theta}{2}) & -isin(\\frac{\\theta}{2}) \\\\ -isin(\\frac{\\theta}{2}) & cos(\\frac{\\theta}{2}) \\end{pmatrix} \\\\\n",
    "R_y(\\theta) = \\begin{pmatrix} cos(\\frac{\\theta}{2}) & -sin(\\frac{\\theta}{2}) \\\\ sin(\\frac{\\theta}{2}) & cos(\\frac{\\theta}{2}) \\end{pmatrix} \\\\\n",
    "R_z(\\theta) = \\begin{pmatrix} e^{-i\\frac{\\theta}{2}} & 0 \\\\ 0 & e^{i\\frac{\\theta}{2}} \\end{pmatrix} \\\\\n",
    "$$\n"
   ]
  },
  {
   "cell_type": "markdown",
   "metadata": {},
   "source": [
    "$$\n",
    "S = \\begin{pmatrix} 1 & 0 \\\\ 0 & i \\end{pmatrix} \\qquad\n",
    "\\propto \\qquad\n",
    "R_z(\\frac{\\pi}{2})\n",
    "$$"
   ]
  },
  {
   "cell_type": "markdown",
   "metadata": {},
   "source": [
    "$$\n",
    "H = \\frac{1}{\\sqrt{2}}\\begin{pmatrix} 1 & 1 \\\\ 1 & -1 \\end{pmatrix} \\qquad\n",
    "\\propto \\qquad \n",
    "R_y(\\frac{\\pi}{2})R_z(\\pi) \\qquad\n",
    "\\propto \\qquad \n",
    "R_z(\\frac{\\pi}{2})R_x(\\frac{\\pi}{2})R_z(\\frac{\\pi}{2}) \\qquad\n",
    "$$"
   ]
  },
  {
   "cell_type": "markdown",
   "metadata": {},
   "source": [
    "$$\n",
    "\\begin{align}\n",
    "R_y(\\theta) &= SR_x(\\theta)S^{\\dagger}\\\\\n",
    "         &= R_z(\\frac{\\pi}{2})R_x(\\theta)R_z(-\\frac{\\pi}{2})\n",
    "\\end{align}\n",
    "$$"
   ]
  },
  {
   "cell_type": "markdown",
   "metadata": {},
   "source": [
    "Format of circuit input:\n",
    "<center>\n",
    "[[name_of_the_gate, [index_1, index_2]]]\n",
    "</center>\n",
    "only 2-qubit gates have index_2."
   ]
  },
  {
   "cell_type": "code",
   "execution_count": 2,
   "metadata": {},
   "outputs": [],
   "source": [
    "#example\n",
    "import qiskit\n",
    "from qiskit.circuit.library import XGate, YGate, ZGate, HGate, RXGate, RYGate, RZGate\n",
    "import numpy as np"
   ]
  },
  {
   "cell_type": "code",
   "execution_count": 25,
   "metadata": {},
   "outputs": [
    {
     "name": "stdout",
     "output_type": "stream",
     "text": [
      "['x', 'z'] vs ['z', 'x']\n",
      "equal: False\n",
      "equal up to global phase: True\n",
      "\n",
      "['x'] vs ['z']\n",
      "commute: False\n",
      "commute up to global phase: True\n",
      "\n",
      "['x'] vs ['rx(1.0pi)']\n",
      "equal: False\n",
      "equal up to global phase: True\n",
      "\n",
      "['h'] vs ['rz(1.0pi)', 'ry(0.5pi)']\n",
      "equal: False\n",
      "equal up to global phase: True\n",
      "\n",
      "['h'] vs ['rz(0.5pi)', 'rx(0.5pi)', 'rz(0.5pi)']\n",
      "equal: False\n",
      "equal up to global phase: True\n",
      "\n",
      "['ry(0.393pi)'] vs ['rz(-0.5pi)', 'rx(0.393pi)', 'rz(0.5pi)']\n",
      "equal: True\n",
      "equal up to global phase: True\n",
      "\n",
      "[[ 0.815+0.j -0.579+0.j]\n",
      " [ 0.579+0.j  0.815+0.j]]\n",
      "[[ 0.815+0.j -0.579+0.j]\n",
      " [ 0.579+0.j  0.815+0.j]]\n"
     ]
    }
   ],
   "source": [
    "# Helper functions\n",
    "\n",
    "GATES = {'i', 'h', 'x', 'y', 'z', 'rx', 'ry', 'rz', 'cx', 'cz'}\n",
    "BASIS_GATES = {'rx', 'rz', 'cz'}\n",
    "\n",
    "\n",
    "#ng = no global phase\n",
    "\n",
    "def get_param(gate):\n",
    "    return gate.params[0]\n",
    "\n",
    "def presice_matrix(gates):\n",
    "    if len(gates) == 0:\n",
    "        return 1\n",
    "    return gates[-1].to_matrix().dot(presice_matrix(gates[:-1]))\n",
    "\n",
    "def matrix(gates, precision=3):\n",
    "    if precision == None:\n",
    "        return precise_matrix(gates)\n",
    "    else:\n",
    "        return np.round(presice_matrix(gates), precision)\n",
    "\n",
    "def matrix_ng(gates, precision=3):\n",
    "    if len(gates) == 0:\n",
    "        return 1\n",
    "    mat = presice_matrix(gates)\n",
    "    for i in range(len(mat[0])):\n",
    "        if np.round(mat[0][i], precision) != 0:\n",
    "            global_phase_angle = np.angle(mat[0][i])\n",
    "            break\n",
    "    global_phase = np.e**(global_phase_angle*1j)\n",
    "    mat = mat/global_phase\n",
    "    if precision == None:\n",
    "        return mat\n",
    "    else:\n",
    "        return np.round(mat, precision)\n",
    "\n",
    "def equal(gates1, gates2):\n",
    "    return (matrix(gates1) == matrix(gates2)).all()\n",
    "\n",
    "def equal_ng(gates1, gates2):\n",
    "    return (matrix_ng(gates1) == matrix_ng(gates2)).all()\n",
    "    \n",
    "def commute(gates1, gates2):\n",
    "    m1 = matrix(gates1)\n",
    "    m2 = matrix(gates2)\n",
    "    return (m1.dot(m2) == m2.dot(m1)).all()\n",
    "\n",
    "def commute_ng(gates1, gates2):\n",
    "    cm1 = matrix_ng(gates1+gates2)\n",
    "    cm2 = matrix_ng(gates2+gates1)\n",
    "    return (cm1 == cm2).all()\n",
    "\n",
    "def gate_to_str(gate):\n",
    "    return gate.name if len(gate.params)==0 else f'{gate.name}({np.round(gate.params[0]/np.pi, 3)}pi)'\n",
    "\n",
    "def equal_test(gates1, gates2):\n",
    "    print(f'{[gate_to_str(g) for g in gates1]} vs {[gate_to_str(g) for g in gates2]}')\n",
    "    print(f'equal: {equal(gates1, gates2)}')\n",
    "    print(f'equal up to global phase: {equal_ng(gates1, gates2)}')\n",
    "    print()\n",
    "\n",
    "def commute_test(gates1, gates2):\n",
    "    print(f'{[gate_to_str(g) for g in gates1]} vs {[gate_to_str(g) for g in gates2]}')\n",
    "    print(f'commute: {commute(gates1, gates2)}')\n",
    "    print(f'commute up to global phase: {commute_ng(gates1, gates2)}')\n",
    "    print()\n",
    "\n",
    "gates1 = [XGate(), ZGate()]\n",
    "gates2 = [ZGate(), XGate()]\n",
    "equal_test(gates1, gates2)\n",
    "    \n",
    "gates1 = [XGate()]\n",
    "gates2 = [ZGate()]\n",
    "commute_test(gates1, gates2)\n",
    "\n",
    "gates1 = [XGate()]\n",
    "gates2 = [RXGate(np.pi)]\n",
    "equal_test(gates1, gates2)\n",
    "\n",
    "gates1 = [HGate()]\n",
    "gates2 = [RZGate(np.pi), RYGate(np.pi/2)]\n",
    "equal_test(gates1, gates2)\n",
    "\n",
    "gates1 = [HGate()]\n",
    "gates2 = [RZGate(np.pi/2), RXGate(np.pi/2), RZGate(np.pi/2)]\n",
    "equal_test(gates1, gates2)\n",
    "\n",
    "gates1 = [RYGate(1.2345)]\n",
    "gates2 = [RZGate(-np.pi/2), RXGate(1.2345), RZGate(np.pi/2)]\n",
    "equal_test(gates1, gates2)\n",
    "\n",
    "#print(matrix_ng(gates1))\n",
    "#print(matrix_ng(gates2))"
   ]
  },
  {
   "cell_type": "code",
   "execution_count": null,
   "metadata": {},
   "outputs": [],
   "source": []
  }
 ],
 "metadata": {
  "kernelspec": {
   "display_name": "Python 3",
   "language": "python",
   "name": "python3"
  },
  "language_info": {
   "codemirror_mode": {
    "name": "ipython",
    "version": 3
   },
   "file_extension": ".py",
   "mimetype": "text/x-python",
   "name": "python",
   "nbconvert_exporter": "python",
   "pygments_lexer": "ipython3",
   "version": "3.7.4"
  }
 },
 "nbformat": 4,
 "nbformat_minor": 4
}
